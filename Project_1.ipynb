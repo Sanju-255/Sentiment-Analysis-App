{
  "nbformat": 4,
  "nbformat_minor": 0,
  "metadata": {
    "colab": {
      "provenance": [],
      "mount_file_id": "1s9Zt3Mgh5uMqK1n1hDXlTW59Bm28ZZIP",
      "authorship_tag": "ABX9TyNPglw3RAip/r7iqSOTlOp+",
      "include_colab_link": true
    },
    "kernelspec": {
      "name": "python3",
      "display_name": "Python 3"
    },
    "language_info": {
      "name": "python"
    }
  },
  "cells": [
    {
      "cell_type": "markdown",
      "metadata": {
        "id": "view-in-github",
        "colab_type": "text"
      },
      "source": [
        "<a href=\"https://colab.research.google.com/github/Sanju-255/sentiment-analysis-app/blob/main/Project_1.ipynb\" target=\"_parent\"><img src=\"https://colab.research.google.com/assets/colab-badge.svg\" alt=\"Open In Colab\"/></a>"
      ]
    },
    {
      "cell_type": "code",
      "source": [
        "from google.colab import drive\n",
        "drive.mount('/content/drive')"
      ],
      "metadata": {
        "colab": {
          "base_uri": "https://localhost:8080/"
        },
        "id": "Oe8rX5fBUTX8",
        "outputId": "286a7bbe-8255-4847-a8ac-868acab2c4e6"
      },
      "execution_count": 581,
      "outputs": [
        {
          "output_type": "stream",
          "name": "stdout",
          "text": [
            "Drive already mounted at /content/drive; to attempt to forcibly remount, call drive.mount(\"/content/drive\", force_remount=True).\n"
          ]
        }
      ]
    },
    {
      "cell_type": "code",
      "metadata": {
        "colab": {
          "base_uri": "https://localhost:8080/",
          "height": 223
        },
        "id": "cc9de392",
        "outputId": "9e5d7896-a357-4ccd-ab04-f18547c49730"
      },
      "source": [
        "import pandas as pd\n",
        "\n",
        "# Purpose: Safely load the dataset from the specified Google Drive path.\n",
        "try:\n",
        "    # Attempt to read the Excel file. Handles FileNotFoundError if the path is incorrect.\n",
        "    df = pd.read_excel('/content/drive/MyDrive/Colab Notebooks/P597 DATASET.xlsx')\n",
        "except FileNotFoundError:\n",
        "    print(\"Error: The file 'P597 DATASET.xlsx' was not found. Please check the exact path and drive mount status.\")\n",
        "    # Create an empty DataFrame to prevent subsequent code errors, or exit the program\n",
        "    df = pd.DataFrame()\n",
        "except Exception as e:\n",
        "    print(f\"An unexpected error occurred during file loading: {e}\")\n",
        "    df = pd.DataFrame()\n",
        "\n",
        "# Proceed only if the DataFrame loaded successfully\n",
        "if not df.empty:\n",
        "    print(f\"Dataset loaded successfully with {len(df)} rows and {len(df.columns)} columns.\")\n",
        "    display(df.head())"
      ],
      "execution_count": 582,
      "outputs": [
        {
          "output_type": "stream",
          "name": "stdout",
          "text": [
            "Dataset loaded successfully with 1440 rows and 3 columns.\n"
          ]
        },
        {
          "output_type": "display_data",
          "data": {
            "text/plain": [
              "                                     title  rating  \\\n",
              "0                         Horrible product       1   \n",
              "1  Camera quality is not like 48 megapixel       3   \n",
              "2                                  Overall       4   \n",
              "3                         A big no from me       1   \n",
              "4            Put your money somewhere else       1   \n",
              "\n",
              "                                                body  \n",
              "0  Very disappointed with the overall performance...  \n",
              "1                              Camera quality is low  \n",
              "2  Got the mobile on the launch date,Battery must...  \n",
              "3  1. It doesn't work with 5.0GHz WiFi frequency....  \n",
              "4  Not worth buying....faulty software, poor disp...  "
            ],
            "text/html": [
              "\n",
              "  <div id=\"df-8d29158d-8051-46cd-b168-e94d9b655e1a\" class=\"colab-df-container\">\n",
              "    <div>\n",
              "<style scoped>\n",
              "    .dataframe tbody tr th:only-of-type {\n",
              "        vertical-align: middle;\n",
              "    }\n",
              "\n",
              "    .dataframe tbody tr th {\n",
              "        vertical-align: top;\n",
              "    }\n",
              "\n",
              "    .dataframe thead th {\n",
              "        text-align: right;\n",
              "    }\n",
              "</style>\n",
              "<table border=\"1\" class=\"dataframe\">\n",
              "  <thead>\n",
              "    <tr style=\"text-align: right;\">\n",
              "      <th></th>\n",
              "      <th>title</th>\n",
              "      <th>rating</th>\n",
              "      <th>body</th>\n",
              "    </tr>\n",
              "  </thead>\n",
              "  <tbody>\n",
              "    <tr>\n",
              "      <th>0</th>\n",
              "      <td>Horrible product</td>\n",
              "      <td>1</td>\n",
              "      <td>Very disappointed with the overall performance...</td>\n",
              "    </tr>\n",
              "    <tr>\n",
              "      <th>1</th>\n",
              "      <td>Camera quality is not like 48 megapixel</td>\n",
              "      <td>3</td>\n",
              "      <td>Camera quality is low</td>\n",
              "    </tr>\n",
              "    <tr>\n",
              "      <th>2</th>\n",
              "      <td>Overall</td>\n",
              "      <td>4</td>\n",
              "      <td>Got the mobile on the launch date,Battery must...</td>\n",
              "    </tr>\n",
              "    <tr>\n",
              "      <th>3</th>\n",
              "      <td>A big no from me</td>\n",
              "      <td>1</td>\n",
              "      <td>1. It doesn't work with 5.0GHz WiFi frequency....</td>\n",
              "    </tr>\n",
              "    <tr>\n",
              "      <th>4</th>\n",
              "      <td>Put your money somewhere else</td>\n",
              "      <td>1</td>\n",
              "      <td>Not worth buying....faulty software, poor disp...</td>\n",
              "    </tr>\n",
              "  </tbody>\n",
              "</table>\n",
              "</div>\n",
              "    <div class=\"colab-df-buttons\">\n",
              "\n",
              "  <div class=\"colab-df-container\">\n",
              "    <button class=\"colab-df-convert\" onclick=\"convertToInteractive('df-8d29158d-8051-46cd-b168-e94d9b655e1a')\"\n",
              "            title=\"Convert this dataframe to an interactive table.\"\n",
              "            style=\"display:none;\">\n",
              "\n",
              "  <svg xmlns=\"http://www.w3.org/2000/svg\" height=\"24px\" viewBox=\"0 -960 960 960\">\n",
              "    <path d=\"M120-120v-720h720v720H120Zm60-500h600v-160H180v160Zm220 220h160v-160H400v160Zm0 220h160v-160H400v160ZM180-400h160v-160H180v160Zm440 0h160v-160H620v160ZM180-180h160v-160H180v160Zm440 0h160v-160H620v160Z\"/>\n",
              "  </svg>\n",
              "    </button>\n",
              "\n",
              "  <style>\n",
              "    .colab-df-container {\n",
              "      display:flex;\n",
              "      gap: 12px;\n",
              "    }\n",
              "\n",
              "    .colab-df-convert {\n",
              "      background-color: #E8F0FE;\n",
              "      border: none;\n",
              "      border-radius: 50%;\n",
              "      cursor: pointer;\n",
              "      display: none;\n",
              "      fill: #1967D2;\n",
              "      height: 32px;\n",
              "      padding: 0 0 0 0;\n",
              "      width: 32px;\n",
              "    }\n",
              "\n",
              "    .colab-df-convert:hover {\n",
              "      background-color: #E2EBFA;\n",
              "      box-shadow: 0px 1px 2px rgba(60, 64, 67, 0.3), 0px 1px 3px 1px rgba(60, 64, 67, 0.15);\n",
              "      fill: #174EA6;\n",
              "    }\n",
              "\n",
              "    .colab-df-buttons div {\n",
              "      margin-bottom: 4px;\n",
              "    }\n",
              "\n",
              "    [theme=dark] .colab-df-convert {\n",
              "      background-color: #3B4455;\n",
              "      fill: #D2E3FC;\n",
              "    }\n",
              "\n",
              "    [theme=dark] .colab-df-convert:hover {\n",
              "      background-color: #434B5C;\n",
              "      box-shadow: 0px 1px 3px 1px rgba(0, 0, 0, 0.15);\n",
              "      filter: drop-shadow(0px 1px 2px rgba(0, 0, 0, 0.3));\n",
              "      fill: #FFFFFF;\n",
              "    }\n",
              "  </style>\n",
              "\n",
              "    <script>\n",
              "      const buttonEl =\n",
              "        document.querySelector('#df-8d29158d-8051-46cd-b168-e94d9b655e1a button.colab-df-convert');\n",
              "      buttonEl.style.display =\n",
              "        google.colab.kernel.accessAllowed ? 'block' : 'none';\n",
              "\n",
              "      async function convertToInteractive(key) {\n",
              "        const element = document.querySelector('#df-8d29158d-8051-46cd-b168-e94d9b655e1a');\n",
              "        const dataTable =\n",
              "          await google.colab.kernel.invokeFunction('convertToInteractive',\n",
              "                                                    [key], {});\n",
              "        if (!dataTable) return;\n",
              "\n",
              "        const docLinkHtml = 'Like what you see? Visit the ' +\n",
              "          '<a target=\"_blank\" href=https://colab.research.google.com/notebooks/data_table.ipynb>data table notebook</a>'\n",
              "          + ' to learn more about interactive tables.';\n",
              "        element.innerHTML = '';\n",
              "        dataTable['output_type'] = 'display_data';\n",
              "        await google.colab.output.renderOutput(dataTable, element);\n",
              "        const docLink = document.createElement('div');\n",
              "        docLink.innerHTML = docLinkHtml;\n",
              "        element.appendChild(docLink);\n",
              "      }\n",
              "    </script>\n",
              "  </div>\n",
              "\n",
              "\n",
              "    <div id=\"df-7ebb6c85-9887-4915-81a0-3f48f00ba731\">\n",
              "      <button class=\"colab-df-quickchart\" onclick=\"quickchart('df-7ebb6c85-9887-4915-81a0-3f48f00ba731')\"\n",
              "                title=\"Suggest charts\"\n",
              "                style=\"display:none;\">\n",
              "\n",
              "<svg xmlns=\"http://www.w3.org/2000/svg\" height=\"24px\"viewBox=\"0 0 24 24\"\n",
              "     width=\"24px\">\n",
              "    <g>\n",
              "        <path d=\"M19 3H5c-1.1 0-2 .9-2 2v14c0 1.1.9 2 2 2h14c1.1 0 2-.9 2-2V5c0-1.1-.9-2-2-2zM9 17H7v-7h2v7zm4 0h-2V7h2v10zm4 0h-2v-4h2v4z\"/>\n",
              "    </g>\n",
              "</svg>\n",
              "      </button>\n",
              "\n",
              "<style>\n",
              "  .colab-df-quickchart {\n",
              "      --bg-color: #E8F0FE;\n",
              "      --fill-color: #1967D2;\n",
              "      --hover-bg-color: #E2EBFA;\n",
              "      --hover-fill-color: #174EA6;\n",
              "      --disabled-fill-color: #AAA;\n",
              "      --disabled-bg-color: #DDD;\n",
              "  }\n",
              "\n",
              "  [theme=dark] .colab-df-quickchart {\n",
              "      --bg-color: #3B4455;\n",
              "      --fill-color: #D2E3FC;\n",
              "      --hover-bg-color: #434B5C;\n",
              "      --hover-fill-color: #FFFFFF;\n",
              "      --disabled-bg-color: #3B4455;\n",
              "      --disabled-fill-color: #666;\n",
              "  }\n",
              "\n",
              "  .colab-df-quickchart {\n",
              "    background-color: var(--bg-color);\n",
              "    border: none;\n",
              "    border-radius: 50%;\n",
              "    cursor: pointer;\n",
              "    display: none;\n",
              "    fill: var(--fill-color);\n",
              "    height: 32px;\n",
              "    padding: 0;\n",
              "    width: 32px;\n",
              "  }\n",
              "\n",
              "  .colab-df-quickchart:hover {\n",
              "    background-color: var(--hover-bg-color);\n",
              "    box-shadow: 0 1px 2px rgba(60, 64, 67, 0.3), 0 1px 3px 1px rgba(60, 64, 67, 0.15);\n",
              "    fill: var(--button-hover-fill-color);\n",
              "  }\n",
              "\n",
              "  .colab-df-quickchart-complete:disabled,\n",
              "  .colab-df-quickchart-complete:disabled:hover {\n",
              "    background-color: var(--disabled-bg-color);\n",
              "    fill: var(--disabled-fill-color);\n",
              "    box-shadow: none;\n",
              "  }\n",
              "\n",
              "  .colab-df-spinner {\n",
              "    border: 2px solid var(--fill-color);\n",
              "    border-color: transparent;\n",
              "    border-bottom-color: var(--fill-color);\n",
              "    animation:\n",
              "      spin 1s steps(1) infinite;\n",
              "  }\n",
              "\n",
              "  @keyframes spin {\n",
              "    0% {\n",
              "      border-color: transparent;\n",
              "      border-bottom-color: var(--fill-color);\n",
              "      border-left-color: var(--fill-color);\n",
              "    }\n",
              "    20% {\n",
              "      border-color: transparent;\n",
              "      border-left-color: var(--fill-color);\n",
              "      border-top-color: var(--fill-color);\n",
              "    }\n",
              "    30% {\n",
              "      border-color: transparent;\n",
              "      border-left-color: var(--fill-color);\n",
              "      border-top-color: var(--fill-color);\n",
              "      border-right-color: var(--fill-color);\n",
              "    }\n",
              "    40% {\n",
              "      border-color: transparent;\n",
              "      border-right-color: var(--fill-color);\n",
              "      border-top-color: var(--fill-color);\n",
              "    }\n",
              "    60% {\n",
              "      border-color: transparent;\n",
              "      border-right-color: var(--fill-color);\n",
              "    }\n",
              "    80% {\n",
              "      border-color: transparent;\n",
              "      border-right-color: var(--fill-color);\n",
              "      border-bottom-color: var(--fill-color);\n",
              "    }\n",
              "    90% {\n",
              "      border-color: transparent;\n",
              "      border-bottom-color: var(--fill-color);\n",
              "    }\n",
              "  }\n",
              "</style>\n",
              "\n",
              "      <script>\n",
              "        async function quickchart(key) {\n",
              "          const quickchartButtonEl =\n",
              "            document.querySelector('#' + key + ' button');\n",
              "          quickchartButtonEl.disabled = true;  // To prevent multiple clicks.\n",
              "          quickchartButtonEl.classList.add('colab-df-spinner');\n",
              "          try {\n",
              "            const charts = await google.colab.kernel.invokeFunction(\n",
              "                'suggestCharts', [key], {});\n",
              "          } catch (error) {\n",
              "            console.error('Error during call to suggestCharts:', error);\n",
              "          }\n",
              "          quickchartButtonEl.classList.remove('colab-df-spinner');\n",
              "          quickchartButtonEl.classList.add('colab-df-quickchart-complete');\n",
              "        }\n",
              "        (() => {\n",
              "          let quickchartButtonEl =\n",
              "            document.querySelector('#df-7ebb6c85-9887-4915-81a0-3f48f00ba731 button');\n",
              "          quickchartButtonEl.style.display =\n",
              "            google.colab.kernel.accessAllowed ? 'block' : 'none';\n",
              "        })();\n",
              "      </script>\n",
              "    </div>\n",
              "\n",
              "    </div>\n",
              "  </div>\n"
            ],
            "application/vnd.google.colaboratory.intrinsic+json": {
              "type": "dataframe",
              "summary": "{\n  \"name\": \"    display(df\",\n  \"rows\": 5,\n  \"fields\": [\n    {\n      \"column\": \"title\",\n      \"properties\": {\n        \"dtype\": \"string\",\n        \"num_unique_values\": 5,\n        \"samples\": [\n          \"Camera quality is not like 48 megapixel\",\n          \"Put your money somewhere else\",\n          \"Overall\"\n        ],\n        \"semantic_type\": \"\",\n        \"description\": \"\"\n      }\n    },\n    {\n      \"column\": \"rating\",\n      \"properties\": {\n        \"dtype\": \"number\",\n        \"std\": 1,\n        \"min\": 1,\n        \"max\": 4,\n        \"num_unique_values\": 3,\n        \"samples\": [\n          1,\n          3,\n          4\n        ],\n        \"semantic_type\": \"\",\n        \"description\": \"\"\n      }\n    },\n    {\n      \"column\": \"body\",\n      \"properties\": {\n        \"dtype\": \"string\",\n        \"num_unique_values\": 5,\n        \"samples\": [\n          \"Camera quality is low\",\n          \"Not worth buying....faulty software, poor display quality, single band wifi doesn't support  5ghz WIFI band. Gyro sensor missing and many more. DONT GO BY PAID REVIEWS IN YOU TUBE\",\n          \"Got the mobile on the launch date,Battery must be appreciatedCamera is just averageMobile performance is above average90hz refresh rate? If u r buying the mobile for this feature then I'm afraid u may get disappointed, it's just normal.The USB cable is too small in lengthIt's a good mobile in this budget, there are no returns for this,  only replacement is available, hence choose wisely before buying\"\n        ],\n        \"semantic_type\": \"\",\n        \"description\": \"\"\n      }\n    }\n  ]\n}"
            }
          },
          "metadata": {}
        }
      ]
    },
    {
      "cell_type": "code",
      "metadata": {
        "id": "1f2bc5c7"
      },
      "source": [
        "df.to_csv('/content/drive/MyDrive/Colab Notebooks/P597 DATASET.csv', index=False)"
      ],
      "execution_count": 583,
      "outputs": []
    },
    {
      "cell_type": "markdown",
      "metadata": {
        "id": "faf17f57"
      },
      "source": [
        "* **Handling Missing Values:** Check for and address any missing values in the relevant columns."
      ]
    },
    {
      "cell_type": "code",
      "metadata": {
        "colab": {
          "base_uri": "https://localhost:8080/"
        },
        "id": "b3d0603f",
        "outputId": "36a376aa-d128-4e70-887f-b69e66308531"
      },
      "source": [
        "# Check for missing values\n",
        "print(\"Missing values before handling:\")\n",
        "print(df[['body']].isnull().sum())\n",
        "\n",
        "# Decide on a strategy for missing values if any are found.\n",
        "# For example, dropping rows with missing values in 'cleaned_body':\n",
        "# df.dropna(subset=['cleaned_body'], inplace=True)\n",
        "\n",
        "# Or filling missing values in 'cleaned_body' with an empty string:\n",
        "# df['cleaned_body'].fillna('', inplace=True)\n",
        "\n",
        "# Re-check for missing values after handling\n",
        "# print(\"\\nMissing values after handling:\")\n",
        "# print(df[['body', 'cleaned_body', 'tokens', 'tokens_no_stopwords', 'lemmatized_tokens', 'lemmatized_text', 'sentiment_categorized']].isnull().sum())"
      ],
      "execution_count": 584,
      "outputs": [
        {
          "output_type": "stream",
          "name": "stdout",
          "text": [
            "Missing values before handling:\n",
            "body    0\n",
            "dtype: int64\n"
          ]
        }
      ]
    },
    {
      "cell_type": "markdown",
      "metadata": {
        "id": "4d54ea39"
      },
      "source": [
        "* **Handling Duplicate Rows:** Identify and remove any duplicate rows that might skew the analysis."
      ]
    },
    {
      "cell_type": "code",
      "metadata": {
        "colab": {
          "base_uri": "https://localhost:8080/"
        },
        "id": "9c32ff29",
        "outputId": "a0ba59d8-6eb2-422a-9acb-d0847e588659"
      },
      "source": [
        "# Check for duplicate rows\n",
        "# Exclude columns with list types from duplicate check\n",
        "columns_to_check = [col for col in df.columns if not isinstance(df[col].iloc[0], list)]\n",
        "print(\"Number of duplicate rows before handling:\", df.duplicated(subset=columns_to_check).sum())\n",
        "\n",
        "# Remove duplicate rows\n",
        "df.drop_duplicates(subset=columns_to_check, inplace=True)\n",
        "\n",
        "# Re-check for duplicate rows\n",
        "print(\"Number of duplicate rows after handling:\", df.duplicated(subset=columns_to_check).sum())"
      ],
      "execution_count": 585,
      "outputs": [
        {
          "output_type": "stream",
          "name": "stdout",
          "text": [
            "Number of duplicate rows before handling: 0\n",
            "Number of duplicate rows after handling: 0\n"
          ]
        }
      ]
    },
    {
      "cell_type": "markdown",
      "source": [
        "# 1. NLP Sentiment Analysis"
      ],
      "metadata": {
        "id": "9C_4WQIWYc-o"
      }
    },
    {
      "cell_type": "markdown",
      "source": [
        "## A. Data Preprocessing"
      ],
      "metadata": {
        "id": "GFikfAtSYiYZ"
      }
    },
    {
      "cell_type": "markdown",
      "source": [
        "\n",
        "\n",
        "*  **Cleaning:** Remove HTML tags, special characters, and multiple spaces.\n",
        "\n"
      ],
      "metadata": {
        "id": "2PA0dhaic03a"
      }
    },
    {
      "cell_type": "code",
      "metadata": {
        "colab": {
          "base_uri": "https://localhost:8080/",
          "height": 206
        },
        "id": "60bcb37b",
        "outputId": "ac5cb51b-a118-43a7-88cb-af9584548385"
      },
      "source": [
        "import re\n",
        "import pandas as pd # Already imported, but good practice to show dependency\n",
        "\n",
        "# Function: clean_text\n",
        "# Purpose: Preprocesses text by removing non-alphanumeric noise elements and handling edge cases.\n",
        "def clean_text(text):\n",
        "    # Robust Error Handling: Check for missing (NaN) or non-string inputs\n",
        "    if pd.isnull(text) or not isinstance(text, str):\n",
        "        return \"\"\n",
        "    try:\n",
        "        # 1. Remove HTML tags (e.g., <body>, <br/>)\n",
        "        text = re.sub(r'<.*?>', '', text)\n",
        "        # 2. Remove special characters (keep only A-Z, a-z, 0-9, and spaces)\n",
        "        text = re.sub(r'[^a-zA-Z0-9\\s]', '', text)\n",
        "        # 3. Replace multiple spaces with a single space and strip leading/trailing whitespace\n",
        "        text = re.sub(r'\\s+', ' ', text).strip()\n",
        "        return text\n",
        "    except Exception as e:\n",
        "        # Log the error but return an empty string to keep the pipeline moving\n",
        "        print(f\"Error cleaning text '{text[:50]}...': {e}\")\n",
        "        return \"\"\n",
        "\n",
        "df['cleaned_body'] = df['body'].apply(clean_text)\n",
        "display(df[['body', 'cleaned_body']].head())"
      ],
      "execution_count": 586,
      "outputs": [
        {
          "output_type": "display_data",
          "data": {
            "text/plain": [
              "                                                body  \\\n",
              "0  Very disappointed with the overall performance...   \n",
              "1                              Camera quality is low   \n",
              "2  Got the mobile on the launch date,Battery must...   \n",
              "3  1. It doesn't work with 5.0GHz WiFi frequency....   \n",
              "4  Not worth buying....faulty software, poor disp...   \n",
              "\n",
              "                                        cleaned_body  \n",
              "0  Very disappointed with the overall performance...  \n",
              "1                              Camera quality is low  \n",
              "2  Got the mobile on the launch dateBattery must ...  \n",
              "3  1 It doesnt work with 50GHz WiFi frequency 24G...  \n",
              "4  Not worth buyingfaulty software poor display q...  "
            ],
            "text/html": [
              "\n",
              "  <div id=\"df-5f327e35-9e07-4baf-a5e5-8717bd8ff86d\" class=\"colab-df-container\">\n",
              "    <div>\n",
              "<style scoped>\n",
              "    .dataframe tbody tr th:only-of-type {\n",
              "        vertical-align: middle;\n",
              "    }\n",
              "\n",
              "    .dataframe tbody tr th {\n",
              "        vertical-align: top;\n",
              "    }\n",
              "\n",
              "    .dataframe thead th {\n",
              "        text-align: right;\n",
              "    }\n",
              "</style>\n",
              "<table border=\"1\" class=\"dataframe\">\n",
              "  <thead>\n",
              "    <tr style=\"text-align: right;\">\n",
              "      <th></th>\n",
              "      <th>body</th>\n",
              "      <th>cleaned_body</th>\n",
              "    </tr>\n",
              "  </thead>\n",
              "  <tbody>\n",
              "    <tr>\n",
              "      <th>0</th>\n",
              "      <td>Very disappointed with the overall performance...</td>\n",
              "      <td>Very disappointed with the overall performance...</td>\n",
              "    </tr>\n",
              "    <tr>\n",
              "      <th>1</th>\n",
              "      <td>Camera quality is low</td>\n",
              "      <td>Camera quality is low</td>\n",
              "    </tr>\n",
              "    <tr>\n",
              "      <th>2</th>\n",
              "      <td>Got the mobile on the launch date,Battery must...</td>\n",
              "      <td>Got the mobile on the launch dateBattery must ...</td>\n",
              "    </tr>\n",
              "    <tr>\n",
              "      <th>3</th>\n",
              "      <td>1. It doesn't work with 5.0GHz WiFi frequency....</td>\n",
              "      <td>1 It doesnt work with 50GHz WiFi frequency 24G...</td>\n",
              "    </tr>\n",
              "    <tr>\n",
              "      <th>4</th>\n",
              "      <td>Not worth buying....faulty software, poor disp...</td>\n",
              "      <td>Not worth buyingfaulty software poor display q...</td>\n",
              "    </tr>\n",
              "  </tbody>\n",
              "</table>\n",
              "</div>\n",
              "    <div class=\"colab-df-buttons\">\n",
              "\n",
              "  <div class=\"colab-df-container\">\n",
              "    <button class=\"colab-df-convert\" onclick=\"convertToInteractive('df-5f327e35-9e07-4baf-a5e5-8717bd8ff86d')\"\n",
              "            title=\"Convert this dataframe to an interactive table.\"\n",
              "            style=\"display:none;\">\n",
              "\n",
              "  <svg xmlns=\"http://www.w3.org/2000/svg\" height=\"24px\" viewBox=\"0 -960 960 960\">\n",
              "    <path d=\"M120-120v-720h720v720H120Zm60-500h600v-160H180v160Zm220 220h160v-160H400v160Zm0 220h160v-160H400v160ZM180-400h160v-160H180v160Zm440 0h160v-160H620v160ZM180-180h160v-160H180v160Zm440 0h160v-160H620v160Z\"/>\n",
              "  </svg>\n",
              "    </button>\n",
              "\n",
              "  <style>\n",
              "    .colab-df-container {\n",
              "      display:flex;\n",
              "      gap: 12px;\n",
              "    }\n",
              "\n",
              "    .colab-df-convert {\n",
              "      background-color: #E8F0FE;\n",
              "      border: none;\n",
              "      border-radius: 50%;\n",
              "      cursor: pointer;\n",
              "      display: none;\n",
              "      fill: #1967D2;\n",
              "      height: 32px;\n",
              "      padding: 0 0 0 0;\n",
              "      width: 32px;\n",
              "    }\n",
              "\n",
              "    .colab-df-convert:hover {\n",
              "      background-color: #E2EBFA;\n",
              "      box-shadow: 0px 1px 2px rgba(60, 64, 67, 0.3), 0px 1px 3px 1px rgba(60, 64, 67, 0.15);\n",
              "      fill: #174EA6;\n",
              "    }\n",
              "\n",
              "    .colab-df-buttons div {\n",
              "      margin-bottom: 4px;\n",
              "    }\n",
              "\n",
              "    [theme=dark] .colab-df-convert {\n",
              "      background-color: #3B4455;\n",
              "      fill: #D2E3FC;\n",
              "    }\n",
              "\n",
              "    [theme=dark] .colab-df-convert:hover {\n",
              "      background-color: #434B5C;\n",
              "      box-shadow: 0px 1px 3px 1px rgba(0, 0, 0, 0.15);\n",
              "      filter: drop-shadow(0px 1px 2px rgba(0, 0, 0, 0.3));\n",
              "      fill: #FFFFFF;\n",
              "    }\n",
              "  </style>\n",
              "\n",
              "    <script>\n",
              "      const buttonEl =\n",
              "        document.querySelector('#df-5f327e35-9e07-4baf-a5e5-8717bd8ff86d button.colab-df-convert');\n",
              "      buttonEl.style.display =\n",
              "        google.colab.kernel.accessAllowed ? 'block' : 'none';\n",
              "\n",
              "      async function convertToInteractive(key) {\n",
              "        const element = document.querySelector('#df-5f327e35-9e07-4baf-a5e5-8717bd8ff86d');\n",
              "        const dataTable =\n",
              "          await google.colab.kernel.invokeFunction('convertToInteractive',\n",
              "                                                    [key], {});\n",
              "        if (!dataTable) return;\n",
              "\n",
              "        const docLinkHtml = 'Like what you see? Visit the ' +\n",
              "          '<a target=\"_blank\" href=https://colab.research.google.com/notebooks/data_table.ipynb>data table notebook</a>'\n",
              "          + ' to learn more about interactive tables.';\n",
              "        element.innerHTML = '';\n",
              "        dataTable['output_type'] = 'display_data';\n",
              "        await google.colab.output.renderOutput(dataTable, element);\n",
              "        const docLink = document.createElement('div');\n",
              "        docLink.innerHTML = docLinkHtml;\n",
              "        element.appendChild(docLink);\n",
              "      }\n",
              "    </script>\n",
              "  </div>\n",
              "\n",
              "\n",
              "    <div id=\"df-5fb42585-6d12-437d-9fbf-2d289ad21f38\">\n",
              "      <button class=\"colab-df-quickchart\" onclick=\"quickchart('df-5fb42585-6d12-437d-9fbf-2d289ad21f38')\"\n",
              "                title=\"Suggest charts\"\n",
              "                style=\"display:none;\">\n",
              "\n",
              "<svg xmlns=\"http://www.w3.org/2000/svg\" height=\"24px\"viewBox=\"0 0 24 24\"\n",
              "     width=\"24px\">\n",
              "    <g>\n",
              "        <path d=\"M19 3H5c-1.1 0-2 .9-2 2v14c0 1.1.9 2 2 2h14c1.1 0 2-.9 2-2V5c0-1.1-.9-2-2-2zM9 17H7v-7h2v7zm4 0h-2V7h2v10zm4 0h-2v-4h2v4z\"/>\n",
              "    </g>\n",
              "</svg>\n",
              "      </button>\n",
              "\n",
              "<style>\n",
              "  .colab-df-quickchart {\n",
              "      --bg-color: #E8F0FE;\n",
              "      --fill-color: #1967D2;\n",
              "      --hover-bg-color: #E2EBFA;\n",
              "      --hover-fill-color: #174EA6;\n",
              "      --disabled-fill-color: #AAA;\n",
              "      --disabled-bg-color: #DDD;\n",
              "  }\n",
              "\n",
              "  [theme=dark] .colab-df-quickchart {\n",
              "      --bg-color: #3B4455;\n",
              "      --fill-color: #D2E3FC;\n",
              "      --hover-bg-color: #434B5C;\n",
              "      --hover-fill-color: #FFFFFF;\n",
              "      --disabled-bg-color: #3B4455;\n",
              "      --disabled-fill-color: #666;\n",
              "  }\n",
              "\n",
              "  .colab-df-quickchart {\n",
              "    background-color: var(--bg-color);\n",
              "    border: none;\n",
              "    border-radius: 50%;\n",
              "    cursor: pointer;\n",
              "    display: none;\n",
              "    fill: var(--fill-color);\n",
              "    height: 32px;\n",
              "    padding: 0;\n",
              "    width: 32px;\n",
              "  }\n",
              "\n",
              "  .colab-df-quickchart:hover {\n",
              "    background-color: var(--hover-bg-color);\n",
              "    box-shadow: 0 1px 2px rgba(60, 64, 67, 0.3), 0 1px 3px 1px rgba(60, 64, 67, 0.15);\n",
              "    fill: var(--button-hover-fill-color);\n",
              "  }\n",
              "\n",
              "  .colab-df-quickchart-complete:disabled,\n",
              "  .colab-df-quickchart-complete:disabled:hover {\n",
              "    background-color: var(--disabled-bg-color);\n",
              "    fill: var(--disabled-fill-color);\n",
              "    box-shadow: none;\n",
              "  }\n",
              "\n",
              "  .colab-df-spinner {\n",
              "    border: 2px solid var(--fill-color);\n",
              "    border-color: transparent;\n",
              "    border-bottom-color: var(--fill-color);\n",
              "    animation:\n",
              "      spin 1s steps(1) infinite;\n",
              "  }\n",
              "\n",
              "  @keyframes spin {\n",
              "    0% {\n",
              "      border-color: transparent;\n",
              "      border-bottom-color: var(--fill-color);\n",
              "      border-left-color: var(--fill-color);\n",
              "    }\n",
              "    20% {\n",
              "      border-color: transparent;\n",
              "      border-left-color: var(--fill-color);\n",
              "      border-top-color: var(--fill-color);\n",
              "    }\n",
              "    30% {\n",
              "      border-color: transparent;\n",
              "      border-left-color: var(--fill-color);\n",
              "      border-top-color: var(--fill-color);\n",
              "      border-right-color: var(--fill-color);\n",
              "    }\n",
              "    40% {\n",
              "      border-color: transparent;\n",
              "      border-right-color: var(--fill-color);\n",
              "      border-top-color: var(--fill-color);\n",
              "    }\n",
              "    60% {\n",
              "      border-color: transparent;\n",
              "      border-right-color: var(--fill-color);\n",
              "    }\n",
              "    80% {\n",
              "      border-color: transparent;\n",
              "      border-right-color: var(--fill-color);\n",
              "      border-bottom-color: var(--fill-color);\n",
              "    }\n",
              "    90% {\n",
              "      border-color: transparent;\n",
              "      border-bottom-color: var(--fill-color);\n",
              "    }\n",
              "  }\n",
              "</style>\n",
              "\n",
              "      <script>\n",
              "        async function quickchart(key) {\n",
              "          const quickchartButtonEl =\n",
              "            document.querySelector('#' + key + ' button');\n",
              "          quickchartButtonEl.disabled = true;  // To prevent multiple clicks.\n",
              "          quickchartButtonEl.classList.add('colab-df-spinner');\n",
              "          try {\n",
              "            const charts = await google.colab.kernel.invokeFunction(\n",
              "                'suggestCharts', [key], {});\n",
              "          } catch (error) {\n",
              "            console.error('Error during call to suggestCharts:', error);\n",
              "          }\n",
              "          quickchartButtonEl.classList.remove('colab-df-spinner');\n",
              "          quickchartButtonEl.classList.add('colab-df-quickchart-complete');\n",
              "        }\n",
              "        (() => {\n",
              "          let quickchartButtonEl =\n",
              "            document.querySelector('#df-5fb42585-6d12-437d-9fbf-2d289ad21f38 button');\n",
              "          quickchartButtonEl.style.display =\n",
              "            google.colab.kernel.accessAllowed ? 'block' : 'none';\n",
              "        })();\n",
              "      </script>\n",
              "    </div>\n",
              "\n",
              "    </div>\n",
              "  </div>\n"
            ],
            "application/vnd.google.colaboratory.intrinsic+json": {
              "type": "dataframe",
              "summary": "{\n  \"name\": \"display(df[['body', 'cleaned_body']]\",\n  \"rows\": 5,\n  \"fields\": [\n    {\n      \"column\": \"body\",\n      \"properties\": {\n        \"dtype\": \"string\",\n        \"num_unique_values\": 5,\n        \"samples\": [\n          \"Camera quality is low\",\n          \"Not worth buying....faulty software, poor display quality, single band wifi doesn't support  5ghz WIFI band. Gyro sensor missing and many more. DONT GO BY PAID REVIEWS IN YOU TUBE\",\n          \"Got the mobile on the launch date,Battery must be appreciatedCamera is just averageMobile performance is above average90hz refresh rate? If u r buying the mobile for this feature then I'm afraid u may get disappointed, it's just normal.The USB cable is too small in lengthIt's a good mobile in this budget, there are no returns for this,  only replacement is available, hence choose wisely before buying\"\n        ],\n        \"semantic_type\": \"\",\n        \"description\": \"\"\n      }\n    },\n    {\n      \"column\": \"cleaned_body\",\n      \"properties\": {\n        \"dtype\": \"string\",\n        \"num_unique_values\": 5,\n        \"samples\": [\n          \"Camera quality is low\",\n          \"Not worth buyingfaulty software poor display quality single band wifi doesnt support 5ghz WIFI band Gyro sensor missing and many more DONT GO BY PAID REVIEWS IN YOU TUBE\",\n          \"Got the mobile on the launch dateBattery must be appreciatedCamera is just averageMobile performance is above average90hz refresh rate If u r buying the mobile for this feature then Im afraid u may get disappointed its just normalThe USB cable is too small in lengthIts a good mobile in this budget there are no returns for this only replacement is available hence choose wisely before buying\"\n        ],\n        \"semantic_type\": \"\",\n        \"description\": \"\"\n      }\n    }\n  ]\n}"
            }
          },
          "metadata": {}
        }
      ]
    },
    {
      "cell_type": "markdown",
      "source": [
        "\n",
        "\n",
        "*  **Normalization:** Convert all text to lowercase.\n",
        "\n"
      ],
      "metadata": {
        "id": "gVwcsvn2dDhm"
      }
    },
    {
      "cell_type": "code",
      "source": [
        "df['cleaned_body'] = df['cleaned_body'].str.lower()\n",
        "display(df[['body', 'cleaned_body']].head())"
      ],
      "metadata": {
        "colab": {
          "base_uri": "https://localhost:8080/",
          "height": 206
        },
        "id": "nwHDkpwEaAZv",
        "outputId": "29ae082a-d130-4da5-ffe5-51918fbd936d"
      },
      "execution_count": 587,
      "outputs": [
        {
          "output_type": "display_data",
          "data": {
            "text/plain": [
              "                                                body  \\\n",
              "0  Very disappointed with the overall performance...   \n",
              "1                              Camera quality is low   \n",
              "2  Got the mobile on the launch date,Battery must...   \n",
              "3  1. It doesn't work with 5.0GHz WiFi frequency....   \n",
              "4  Not worth buying....faulty software, poor disp...   \n",
              "\n",
              "                                        cleaned_body  \n",
              "0  very disappointed with the overall performance...  \n",
              "1                              camera quality is low  \n",
              "2  got the mobile on the launch datebattery must ...  \n",
              "3  1 it doesnt work with 50ghz wifi frequency 24g...  \n",
              "4  not worth buyingfaulty software poor display q...  "
            ],
            "text/html": [
              "\n",
              "  <div id=\"df-78f227ef-8e87-4440-9346-342a2cc6bb47\" class=\"colab-df-container\">\n",
              "    <div>\n",
              "<style scoped>\n",
              "    .dataframe tbody tr th:only-of-type {\n",
              "        vertical-align: middle;\n",
              "    }\n",
              "\n",
              "    .dataframe tbody tr th {\n",
              "        vertical-align: top;\n",
              "    }\n",
              "\n",
              "    .dataframe thead th {\n",
              "        text-align: right;\n",
              "    }\n",
              "</style>\n",
              "<table border=\"1\" class=\"dataframe\">\n",
              "  <thead>\n",
              "    <tr style=\"text-align: right;\">\n",
              "      <th></th>\n",
              "      <th>body</th>\n",
              "      <th>cleaned_body</th>\n",
              "    </tr>\n",
              "  </thead>\n",
              "  <tbody>\n",
              "    <tr>\n",
              "      <th>0</th>\n",
              "      <td>Very disappointed with the overall performance...</td>\n",
              "      <td>very disappointed with the overall performance...</td>\n",
              "    </tr>\n",
              "    <tr>\n",
              "      <th>1</th>\n",
              "      <td>Camera quality is low</td>\n",
              "      <td>camera quality is low</td>\n",
              "    </tr>\n",
              "    <tr>\n",
              "      <th>2</th>\n",
              "      <td>Got the mobile on the launch date,Battery must...</td>\n",
              "      <td>got the mobile on the launch datebattery must ...</td>\n",
              "    </tr>\n",
              "    <tr>\n",
              "      <th>3</th>\n",
              "      <td>1. It doesn't work with 5.0GHz WiFi frequency....</td>\n",
              "      <td>1 it doesnt work with 50ghz wifi frequency 24g...</td>\n",
              "    </tr>\n",
              "    <tr>\n",
              "      <th>4</th>\n",
              "      <td>Not worth buying....faulty software, poor disp...</td>\n",
              "      <td>not worth buyingfaulty software poor display q...</td>\n",
              "    </tr>\n",
              "  </tbody>\n",
              "</table>\n",
              "</div>\n",
              "    <div class=\"colab-df-buttons\">\n",
              "\n",
              "  <div class=\"colab-df-container\">\n",
              "    <button class=\"colab-df-convert\" onclick=\"convertToInteractive('df-78f227ef-8e87-4440-9346-342a2cc6bb47')\"\n",
              "            title=\"Convert this dataframe to an interactive table.\"\n",
              "            style=\"display:none;\">\n",
              "\n",
              "  <svg xmlns=\"http://www.w3.org/2000/svg\" height=\"24px\" viewBox=\"0 -960 960 960\">\n",
              "    <path d=\"M120-120v-720h720v720H120Zm60-500h600v-160H180v160Zm220 220h160v-160H400v160Zm0 220h160v-160H400v160ZM180-400h160v-160H180v160Zm440 0h160v-160H620v160ZM180-180h160v-160H180v160Zm440 0h160v-160H620v160Z\"/>\n",
              "  </svg>\n",
              "    </button>\n",
              "\n",
              "  <style>\n",
              "    .colab-df-container {\n",
              "      display:flex;\n",
              "      gap: 12px;\n",
              "    }\n",
              "\n",
              "    .colab-df-convert {\n",
              "      background-color: #E8F0FE;\n",
              "      border: none;\n",
              "      border-radius: 50%;\n",
              "      cursor: pointer;\n",
              "      display: none;\n",
              "      fill: #1967D2;\n",
              "      height: 32px;\n",
              "      padding: 0 0 0 0;\n",
              "      width: 32px;\n",
              "    }\n",
              "\n",
              "    .colab-df-convert:hover {\n",
              "      background-color: #E2EBFA;\n",
              "      box-shadow: 0px 1px 2px rgba(60, 64, 67, 0.3), 0px 1px 3px 1px rgba(60, 64, 67, 0.15);\n",
              "      fill: #174EA6;\n",
              "    }\n",
              "\n",
              "    .colab-df-buttons div {\n",
              "      margin-bottom: 4px;\n",
              "    }\n",
              "\n",
              "    [theme=dark] .colab-df-convert {\n",
              "      background-color: #3B4455;\n",
              "      fill: #D2E3FC;\n",
              "    }\n",
              "\n",
              "    [theme=dark] .colab-df-convert:hover {\n",
              "      background-color: #434B5C;\n",
              "      box-shadow: 0px 1px 3px 1px rgba(0, 0, 0, 0.15);\n",
              "      filter: drop-shadow(0px 1px 2px rgba(0, 0, 0, 0.3));\n",
              "      fill: #FFFFFF;\n",
              "    }\n",
              "  </style>\n",
              "\n",
              "    <script>\n",
              "      const buttonEl =\n",
              "        document.querySelector('#df-78f227ef-8e87-4440-9346-342a2cc6bb47 button.colab-df-convert');\n",
              "      buttonEl.style.display =\n",
              "        google.colab.kernel.accessAllowed ? 'block' : 'none';\n",
              "\n",
              "      async function convertToInteractive(key) {\n",
              "        const element = document.querySelector('#df-78f227ef-8e87-4440-9346-342a2cc6bb47');\n",
              "        const dataTable =\n",
              "          await google.colab.kernel.invokeFunction('convertToInteractive',\n",
              "                                                    [key], {});\n",
              "        if (!dataTable) return;\n",
              "\n",
              "        const docLinkHtml = 'Like what you see? Visit the ' +\n",
              "          '<a target=\"_blank\" href=https://colab.research.google.com/notebooks/data_table.ipynb>data table notebook</a>'\n",
              "          + ' to learn more about interactive tables.';\n",
              "        element.innerHTML = '';\n",
              "        dataTable['output_type'] = 'display_data';\n",
              "        await google.colab.output.renderOutput(dataTable, element);\n",
              "        const docLink = document.createElement('div');\n",
              "        docLink.innerHTML = docLinkHtml;\n",
              "        element.appendChild(docLink);\n",
              "      }\n",
              "    </script>\n",
              "  </div>\n",
              "\n",
              "\n",
              "    <div id=\"df-2b1d383f-e3f4-4915-b3f1-45e7dfb236d8\">\n",
              "      <button class=\"colab-df-quickchart\" onclick=\"quickchart('df-2b1d383f-e3f4-4915-b3f1-45e7dfb236d8')\"\n",
              "                title=\"Suggest charts\"\n",
              "                style=\"display:none;\">\n",
              "\n",
              "<svg xmlns=\"http://www.w3.org/2000/svg\" height=\"24px\"viewBox=\"0 0 24 24\"\n",
              "     width=\"24px\">\n",
              "    <g>\n",
              "        <path d=\"M19 3H5c-1.1 0-2 .9-2 2v14c0 1.1.9 2 2 2h14c1.1 0 2-.9 2-2V5c0-1.1-.9-2-2-2zM9 17H7v-7h2v7zm4 0h-2V7h2v10zm4 0h-2v-4h2v4z\"/>\n",
              "    </g>\n",
              "</svg>\n",
              "      </button>\n",
              "\n",
              "<style>\n",
              "  .colab-df-quickchart {\n",
              "      --bg-color: #E8F0FE;\n",
              "      --fill-color: #1967D2;\n",
              "      --hover-bg-color: #E2EBFA;\n",
              "      --hover-fill-color: #174EA6;\n",
              "      --disabled-fill-color: #AAA;\n",
              "      --disabled-bg-color: #DDD;\n",
              "  }\n",
              "\n",
              "  [theme=dark] .colab-df-quickchart {\n",
              "      --bg-color: #3B4455;\n",
              "      --fill-color: #D2E3FC;\n",
              "      --hover-bg-color: #434B5C;\n",
              "      --hover-fill-color: #FFFFFF;\n",
              "      --disabled-bg-color: #3B4455;\n",
              "      --disabled-fill-color: #666;\n",
              "  }\n",
              "\n",
              "  .colab-df-quickchart {\n",
              "    background-color: var(--bg-color);\n",
              "    border: none;\n",
              "    border-radius: 50%;\n",
              "    cursor: pointer;\n",
              "    display: none;\n",
              "    fill: var(--fill-color);\n",
              "    height: 32px;\n",
              "    padding: 0;\n",
              "    width: 32px;\n",
              "  }\n",
              "\n",
              "  .colab-df-quickchart:hover {\n",
              "    background-color: var(--hover-bg-color);\n",
              "    box-shadow: 0 1px 2px rgba(60, 64, 67, 0.3), 0 1px 3px 1px rgba(60, 64, 67, 0.15);\n",
              "    fill: var(--button-hover-fill-color);\n",
              "  }\n",
              "\n",
              "  .colab-df-quickchart-complete:disabled,\n",
              "  .colab-df-quickchart-complete:disabled:hover {\n",
              "    background-color: var(--disabled-bg-color);\n",
              "    fill: var(--disabled-fill-color);\n",
              "    box-shadow: none;\n",
              "  }\n",
              "\n",
              "  .colab-df-spinner {\n",
              "    border: 2px solid var(--fill-color);\n",
              "    border-color: transparent;\n",
              "    border-bottom-color: var(--fill-color);\n",
              "    animation:\n",
              "      spin 1s steps(1) infinite;\n",
              "  }\n",
              "\n",
              "  @keyframes spin {\n",
              "    0% {\n",
              "      border-color: transparent;\n",
              "      border-bottom-color: var(--fill-color);\n",
              "      border-left-color: var(--fill-color);\n",
              "    }\n",
              "    20% {\n",
              "      border-color: transparent;\n",
              "      border-left-color: var(--fill-color);\n",
              "      border-top-color: var(--fill-color);\n",
              "    }\n",
              "    30% {\n",
              "      border-color: transparent;\n",
              "      border-left-color: var(--fill-color);\n",
              "      border-top-color: var(--fill-color);\n",
              "      border-right-color: var(--fill-color);\n",
              "    }\n",
              "    40% {\n",
              "      border-color: transparent;\n",
              "      border-right-color: var(--fill-color);\n",
              "      border-top-color: var(--fill-color);\n",
              "    }\n",
              "    60% {\n",
              "      border-color: transparent;\n",
              "      border-right-color: var(--fill-color);\n",
              "    }\n",
              "    80% {\n",
              "      border-color: transparent;\n",
              "      border-right-color: var(--fill-color);\n",
              "      border-bottom-color: var(--fill-color);\n",
              "    }\n",
              "    90% {\n",
              "      border-color: transparent;\n",
              "      border-bottom-color: var(--fill-color);\n",
              "    }\n",
              "  }\n",
              "</style>\n",
              "\n",
              "      <script>\n",
              "        async function quickchart(key) {\n",
              "          const quickchartButtonEl =\n",
              "            document.querySelector('#' + key + ' button');\n",
              "          quickchartButtonEl.disabled = true;  // To prevent multiple clicks.\n",
              "          quickchartButtonEl.classList.add('colab-df-spinner');\n",
              "          try {\n",
              "            const charts = await google.colab.kernel.invokeFunction(\n",
              "                'suggestCharts', [key], {});\n",
              "          } catch (error) {\n",
              "            console.error('Error during call to suggestCharts:', error);\n",
              "          }\n",
              "          quickchartButtonEl.classList.remove('colab-df-spinner');\n",
              "          quickchartButtonEl.classList.add('colab-df-quickchart-complete');\n",
              "        }\n",
              "        (() => {\n",
              "          let quickchartButtonEl =\n",
              "            document.querySelector('#df-2b1d383f-e3f4-4915-b3f1-45e7dfb236d8 button');\n",
              "          quickchartButtonEl.style.display =\n",
              "            google.colab.kernel.accessAllowed ? 'block' : 'none';\n",
              "        })();\n",
              "      </script>\n",
              "    </div>\n",
              "\n",
              "    </div>\n",
              "  </div>\n"
            ],
            "application/vnd.google.colaboratory.intrinsic+json": {
              "type": "dataframe",
              "summary": "{\n  \"name\": \"display(df[['body', 'cleaned_body']]\",\n  \"rows\": 5,\n  \"fields\": [\n    {\n      \"column\": \"body\",\n      \"properties\": {\n        \"dtype\": \"string\",\n        \"num_unique_values\": 5,\n        \"samples\": [\n          \"Camera quality is low\",\n          \"Not worth buying....faulty software, poor display quality, single band wifi doesn't support  5ghz WIFI band. Gyro sensor missing and many more. DONT GO BY PAID REVIEWS IN YOU TUBE\",\n          \"Got the mobile on the launch date,Battery must be appreciatedCamera is just averageMobile performance is above average90hz refresh rate? If u r buying the mobile for this feature then I'm afraid u may get disappointed, it's just normal.The USB cable is too small in lengthIt's a good mobile in this budget, there are no returns for this,  only replacement is available, hence choose wisely before buying\"\n        ],\n        \"semantic_type\": \"\",\n        \"description\": \"\"\n      }\n    },\n    {\n      \"column\": \"cleaned_body\",\n      \"properties\": {\n        \"dtype\": \"string\",\n        \"num_unique_values\": 5,\n        \"samples\": [\n          \"camera quality is low\",\n          \"not worth buyingfaulty software poor display quality single band wifi doesnt support 5ghz wifi band gyro sensor missing and many more dont go by paid reviews in you tube\",\n          \"got the mobile on the launch datebattery must be appreciatedcamera is just averagemobile performance is above average90hz refresh rate if u r buying the mobile for this feature then im afraid u may get disappointed its just normalthe usb cable is too small in lengthits a good mobile in this budget there are no returns for this only replacement is available hence choose wisely before buying\"\n        ],\n        \"semantic_type\": \"\",\n        \"description\": \"\"\n      }\n    }\n  ]\n}"
            }
          },
          "metadata": {}
        }
      ]
    },
    {
      "cell_type": "markdown",
      "source": [
        "\n",
        "\n",
        "*   **Tokenization:** Split the text into individual words or tokens.\n",
        "\n"
      ],
      "metadata": {
        "id": "7xL2GsDDdWB7"
      }
    },
    {
      "cell_type": "code",
      "metadata": {
        "colab": {
          "base_uri": "https://localhost:8080/"
        },
        "id": "89054f16",
        "outputId": "fecf3251-4d57-4647-dc9b-5c8f1272bcc6"
      },
      "source": [
        "import nltk\n",
        "nltk.download('punkt')"
      ],
      "execution_count": 588,
      "outputs": [
        {
          "output_type": "stream",
          "name": "stderr",
          "text": [
            "[nltk_data] Downloading package punkt to /root/nltk_data...\n",
            "[nltk_data]   Package punkt is already up-to-date!\n"
          ]
        },
        {
          "output_type": "execute_result",
          "data": {
            "text/plain": [
              "True"
            ]
          },
          "metadata": {},
          "execution_count": 588
        }
      ]
    },
    {
      "cell_type": "code",
      "metadata": {
        "collapsed": true,
        "id": "1e51f62b"
      },
      "source": [
        "# Removed redundant nltk.download('all') as punkt is sufficient for tokenization\n",
        "# import nltk\n",
        "# nltk.download('all')"
      ],
      "execution_count": 589,
      "outputs": []
    },
    {
      "cell_type": "code",
      "metadata": {
        "colab": {
          "base_uri": "https://localhost:8080/",
          "height": 206
        },
        "id": "fd8dde53",
        "outputId": "cbbfca18-a602-44a0-92ec-9ea9948b1ce9"
      },
      "source": [
        "from nltk.tokenize import word_tokenize\n",
        "\n",
        "df['tokens'] = df['cleaned_body'].apply(word_tokenize)\n",
        "display(df[['cleaned_body', 'tokens']].head())"
      ],
      "execution_count": 590,
      "outputs": [
        {
          "output_type": "display_data",
          "data": {
            "text/plain": [
              "                                        cleaned_body  \\\n",
              "0  very disappointed with the overall performance...   \n",
              "1                              camera quality is low   \n",
              "2  got the mobile on the launch datebattery must ...   \n",
              "3  1 it doesnt work with 50ghz wifi frequency 24g...   \n",
              "4  not worth buyingfaulty software poor display q...   \n",
              "\n",
              "                                              tokens  \n",
              "0  [very, disappointed, with, the, overall, perfo...  \n",
              "1                         [camera, quality, is, low]  \n",
              "2  [got, the, mobile, on, the, launch, datebatter...  \n",
              "3  [1, it, doesnt, work, with, 50ghz, wifi, frequ...  \n",
              "4  [not, worth, buyingfaulty, software, poor, dis...  "
            ],
            "text/html": [
              "\n",
              "  <div id=\"df-914f281e-fb5e-4e62-a2ce-e0ef2b30cbf9\" class=\"colab-df-container\">\n",
              "    <div>\n",
              "<style scoped>\n",
              "    .dataframe tbody tr th:only-of-type {\n",
              "        vertical-align: middle;\n",
              "    }\n",
              "\n",
              "    .dataframe tbody tr th {\n",
              "        vertical-align: top;\n",
              "    }\n",
              "\n",
              "    .dataframe thead th {\n",
              "        text-align: right;\n",
              "    }\n",
              "</style>\n",
              "<table border=\"1\" class=\"dataframe\">\n",
              "  <thead>\n",
              "    <tr style=\"text-align: right;\">\n",
              "      <th></th>\n",
              "      <th>cleaned_body</th>\n",
              "      <th>tokens</th>\n",
              "    </tr>\n",
              "  </thead>\n",
              "  <tbody>\n",
              "    <tr>\n",
              "      <th>0</th>\n",
              "      <td>very disappointed with the overall performance...</td>\n",
              "      <td>[very, disappointed, with, the, overall, perfo...</td>\n",
              "    </tr>\n",
              "    <tr>\n",
              "      <th>1</th>\n",
              "      <td>camera quality is low</td>\n",
              "      <td>[camera, quality, is, low]</td>\n",
              "    </tr>\n",
              "    <tr>\n",
              "      <th>2</th>\n",
              "      <td>got the mobile on the launch datebattery must ...</td>\n",
              "      <td>[got, the, mobile, on, the, launch, datebatter...</td>\n",
              "    </tr>\n",
              "    <tr>\n",
              "      <th>3</th>\n",
              "      <td>1 it doesnt work with 50ghz wifi frequency 24g...</td>\n",
              "      <td>[1, it, doesnt, work, with, 50ghz, wifi, frequ...</td>\n",
              "    </tr>\n",
              "    <tr>\n",
              "      <th>4</th>\n",
              "      <td>not worth buyingfaulty software poor display q...</td>\n",
              "      <td>[not, worth, buyingfaulty, software, poor, dis...</td>\n",
              "    </tr>\n",
              "  </tbody>\n",
              "</table>\n",
              "</div>\n",
              "    <div class=\"colab-df-buttons\">\n",
              "\n",
              "  <div class=\"colab-df-container\">\n",
              "    <button class=\"colab-df-convert\" onclick=\"convertToInteractive('df-914f281e-fb5e-4e62-a2ce-e0ef2b30cbf9')\"\n",
              "            title=\"Convert this dataframe to an interactive table.\"\n",
              "            style=\"display:none;\">\n",
              "\n",
              "  <svg xmlns=\"http://www.w3.org/2000/svg\" height=\"24px\" viewBox=\"0 -960 960 960\">\n",
              "    <path d=\"M120-120v-720h720v720H120Zm60-500h600v-160H180v160Zm220 220h160v-160H400v160Zm0 220h160v-160H400v160ZM180-400h160v-160H180v160Zm440 0h160v-160H620v160ZM180-180h160v-160H180v160Zm440 0h160v-160H620v160Z\"/>\n",
              "  </svg>\n",
              "    </button>\n",
              "\n",
              "  <style>\n",
              "    .colab-df-container {\n",
              "      display:flex;\n",
              "      gap: 12px;\n",
              "    }\n",
              "\n",
              "    .colab-df-convert {\n",
              "      background-color: #E8F0FE;\n",
              "      border: none;\n",
              "      border-radius: 50%;\n",
              "      cursor: pointer;\n",
              "      display: none;\n",
              "      fill: #1967D2;\n",
              "      height: 32px;\n",
              "      padding: 0 0 0 0;\n",
              "      width: 32px;\n",
              "    }\n",
              "\n",
              "    .colab-df-convert:hover {\n",
              "      background-color: #E2EBFA;\n",
              "      box-shadow: 0px 1px 2px rgba(60, 64, 67, 0.3), 0px 1px 3px 1px rgba(60, 64, 67, 0.15);\n",
              "      fill: #174EA6;\n",
              "    }\n",
              "\n",
              "    .colab-df-buttons div {\n",
              "      margin-bottom: 4px;\n",
              "    }\n",
              "\n",
              "    [theme=dark] .colab-df-convert {\n",
              "      background-color: #3B4455;\n",
              "      fill: #D2E3FC;\n",
              "    }\n",
              "\n",
              "    [theme=dark] .colab-df-convert:hover {\n",
              "      background-color: #434B5C;\n",
              "      box-shadow: 0px 1px 3px 1px rgba(0, 0, 0, 0.15);\n",
              "      filter: drop-shadow(0px 1px 2px rgba(0, 0, 0, 0.3));\n",
              "      fill: #FFFFFF;\n",
              "    }\n",
              "  </style>\n",
              "\n",
              "    <script>\n",
              "      const buttonEl =\n",
              "        document.querySelector('#df-914f281e-fb5e-4e62-a2ce-e0ef2b30cbf9 button.colab-df-convert');\n",
              "      buttonEl.style.display =\n",
              "        google.colab.kernel.accessAllowed ? 'block' : 'none';\n",
              "\n",
              "      async function convertToInteractive(key) {\n",
              "        const element = document.querySelector('#df-914f281e-fb5e-4e62-a2ce-e0ef2b30cbf9');\n",
              "        const dataTable =\n",
              "          await google.colab.kernel.invokeFunction('convertToInteractive',\n",
              "                                                    [key], {});\n",
              "        if (!dataTable) return;\n",
              "\n",
              "        const docLinkHtml = 'Like what you see? Visit the ' +\n",
              "          '<a target=\"_blank\" href=https://colab.research.google.com/notebooks/data_table.ipynb>data table notebook</a>'\n",
              "          + ' to learn more about interactive tables.';\n",
              "        element.innerHTML = '';\n",
              "        dataTable['output_type'] = 'display_data';\n",
              "        await google.colab.output.renderOutput(dataTable, element);\n",
              "        const docLink = document.createElement('div');\n",
              "        docLink.innerHTML = docLinkHtml;\n",
              "        element.appendChild(docLink);\n",
              "      }\n",
              "    </script>\n",
              "  </div>\n",
              "\n",
              "\n",
              "    <div id=\"df-8d58a067-6268-4f91-a915-fa0ed2159d1f\">\n",
              "      <button class=\"colab-df-quickchart\" onclick=\"quickchart('df-8d58a067-6268-4f91-a915-fa0ed2159d1f')\"\n",
              "                title=\"Suggest charts\"\n",
              "                style=\"display:none;\">\n",
              "\n",
              "<svg xmlns=\"http://www.w3.org/2000/svg\" height=\"24px\"viewBox=\"0 0 24 24\"\n",
              "     width=\"24px\">\n",
              "    <g>\n",
              "        <path d=\"M19 3H5c-1.1 0-2 .9-2 2v14c0 1.1.9 2 2 2h14c1.1 0 2-.9 2-2V5c0-1.1-.9-2-2-2zM9 17H7v-7h2v7zm4 0h-2V7h2v10zm4 0h-2v-4h2v4z\"/>\n",
              "    </g>\n",
              "</svg>\n",
              "      </button>\n",
              "\n",
              "<style>\n",
              "  .colab-df-quickchart {\n",
              "      --bg-color: #E8F0FE;\n",
              "      --fill-color: #1967D2;\n",
              "      --hover-bg-color: #E2EBFA;\n",
              "      --hover-fill-color: #174EA6;\n",
              "      --disabled-fill-color: #AAA;\n",
              "      --disabled-bg-color: #DDD;\n",
              "  }\n",
              "\n",
              "  [theme=dark] .colab-df-quickchart {\n",
              "      --bg-color: #3B4455;\n",
              "      --fill-color: #D2E3FC;\n",
              "      --hover-bg-color: #434B5C;\n",
              "      --hover-fill-color: #FFFFFF;\n",
              "      --disabled-bg-color: #3B4455;\n",
              "      --disabled-fill-color: #666;\n",
              "  }\n",
              "\n",
              "  .colab-df-quickchart {\n",
              "    background-color: var(--bg-color);\n",
              "    border: none;\n",
              "    border-radius: 50%;\n",
              "    cursor: pointer;\n",
              "    display: none;\n",
              "    fill: var(--fill-color);\n",
              "    height: 32px;\n",
              "    padding: 0;\n",
              "    width: 32px;\n",
              "  }\n",
              "\n",
              "  .colab-df-quickchart:hover {\n",
              "    background-color: var(--hover-bg-color);\n",
              "    box-shadow: 0 1px 2px rgba(60, 64, 67, 0.3), 0 1px 3px 1px rgba(60, 64, 67, 0.15);\n",
              "    fill: var(--button-hover-fill-color);\n",
              "  }\n",
              "\n",
              "  .colab-df-quickchart-complete:disabled,\n",
              "  .colab-df-quickchart-complete:disabled:hover {\n",
              "    background-color: var(--disabled-bg-color);\n",
              "    fill: var(--disabled-fill-color);\n",
              "    box-shadow: none;\n",
              "  }\n",
              "\n",
              "  .colab-df-spinner {\n",
              "    border: 2px solid var(--fill-color);\n",
              "    border-color: transparent;\n",
              "    border-bottom-color: var(--fill-color);\n",
              "    animation:\n",
              "      spin 1s steps(1) infinite;\n",
              "  }\n",
              "\n",
              "  @keyframes spin {\n",
              "    0% {\n",
              "      border-color: transparent;\n",
              "      border-bottom-color: var(--fill-color);\n",
              "      border-left-color: var(--fill-color);\n",
              "    }\n",
              "    20% {\n",
              "      border-color: transparent;\n",
              "      border-left-color: var(--fill-color);\n",
              "      border-top-color: var(--fill-color);\n",
              "    }\n",
              "    30% {\n",
              "      border-color: transparent;\n",
              "      border-left-color: var(--fill-color);\n",
              "      border-top-color: var(--fill-color);\n",
              "      border-right-color: var(--fill-color);\n",
              "    }\n",
              "    40% {\n",
              "      border-color: transparent;\n",
              "      border-right-color: var(--fill-color);\n",
              "      border-top-color: var(--fill-color);\n",
              "    }\n",
              "    60% {\n",
              "      border-color: transparent;\n",
              "      border-right-color: var(--fill-color);\n",
              "    }\n",
              "    80% {\n",
              "      border-color: transparent;\n",
              "      border-right-color: var(--fill-color);\n",
              "      border-bottom-color: var(--fill-color);\n",
              "    }\n",
              "    90% {\n",
              "      border-color: transparent;\n",
              "      border-bottom-color: var(--fill-color);\n",
              "    }\n",
              "  }\n",
              "</style>\n",
              "\n",
              "      <script>\n",
              "        async function quickchart(key) {\n",
              "          const quickchartButtonEl =\n",
              "            document.querySelector('#' + key + ' button');\n",
              "          quickchartButtonEl.disabled = true;  // To prevent multiple clicks.\n",
              "          quickchartButtonEl.classList.add('colab-df-spinner');\n",
              "          try {\n",
              "            const charts = await google.colab.kernel.invokeFunction(\n",
              "                'suggestCharts', [key], {});\n",
              "          } catch (error) {\n",
              "            console.error('Error during call to suggestCharts:', error);\n",
              "          }\n",
              "          quickchartButtonEl.classList.remove('colab-df-spinner');\n",
              "          quickchartButtonEl.classList.add('colab-df-quickchart-complete');\n",
              "        }\n",
              "        (() => {\n",
              "          let quickchartButtonEl =\n",
              "            document.querySelector('#df-8d58a067-6268-4f91-a915-fa0ed2159d1f button');\n",
              "          quickchartButtonEl.style.display =\n",
              "            google.colab.kernel.accessAllowed ? 'block' : 'none';\n",
              "        })();\n",
              "      </script>\n",
              "    </div>\n",
              "\n",
              "    </div>\n",
              "  </div>\n"
            ],
            "application/vnd.google.colaboratory.intrinsic+json": {
              "type": "dataframe",
              "summary": "{\n  \"name\": \"display(df[['cleaned_body', 'tokens']]\",\n  \"rows\": 5,\n  \"fields\": [\n    {\n      \"column\": \"cleaned_body\",\n      \"properties\": {\n        \"dtype\": \"string\",\n        \"num_unique_values\": 5,\n        \"samples\": [\n          \"camera quality is low\",\n          \"not worth buyingfaulty software poor display quality single band wifi doesnt support 5ghz wifi band gyro sensor missing and many more dont go by paid reviews in you tube\",\n          \"got the mobile on the launch datebattery must be appreciatedcamera is just averagemobile performance is above average90hz refresh rate if u r buying the mobile for this feature then im afraid u may get disappointed its just normalthe usb cable is too small in lengthits a good mobile in this budget there are no returns for this only replacement is available hence choose wisely before buying\"\n        ],\n        \"semantic_type\": \"\",\n        \"description\": \"\"\n      }\n    },\n    {\n      \"column\": \"tokens\",\n      \"properties\": {\n        \"dtype\": \"object\",\n        \"semantic_type\": \"\",\n        \"description\": \"\"\n      }\n    }\n  ]\n}"
            }
          },
          "metadata": {}
        }
      ]
    },
    {
      "cell_type": "markdown",
      "source": [
        "\n",
        "\n",
        "*   **Stop Word Removal:** Eliminate common words like \"the,\" \"a,\" \"is,\" which don't usually add significant sentiment.\n",
        "\n"
      ],
      "metadata": {
        "id": "3zHaxG7kdeUc"
      }
    },
    {
      "cell_type": "code",
      "metadata": {
        "colab": {
          "base_uri": "https://localhost:8080/",
          "height": 206
        },
        "id": "191ab78b",
        "outputId": "cec41565-877f-4d3e-f9c1-ea016a1834ae"
      },
      "source": [
        "from nltk.corpus import stopwords\n",
        "\n",
        "stop_words = set(stopwords.words('english'))\n",
        "\n",
        "df['tokens_no_stopwords'] = df['tokens'].apply(lambda tokens: [word for word in tokens if word not in stop_words])\n",
        "display(df[['tokens', 'tokens_no_stopwords']].head())"
      ],
      "execution_count": 591,
      "outputs": [
        {
          "output_type": "display_data",
          "data": {
            "text/plain": [
              "                                              tokens  \\\n",
              "0  [very, disappointed, with, the, overall, perfo...   \n",
              "1                         [camera, quality, is, low]   \n",
              "2  [got, the, mobile, on, the, launch, datebatter...   \n",
              "3  [1, it, doesnt, work, with, 50ghz, wifi, frequ...   \n",
              "4  [not, worth, buyingfaulty, software, poor, dis...   \n",
              "\n",
              "                                 tokens_no_stopwords  \n",
              "0      [disappointed, overall, performance, samsung]  \n",
              "1                             [camera, quality, low]  \n",
              "2  [got, mobile, launch, datebattery, must, appre...  \n",
              "3  [1, doesnt, work, 50ghz, wifi, frequency, 24gh...  \n",
              "4  [worth, buyingfaulty, software, poor, display,...  "
            ],
            "text/html": [
              "\n",
              "  <div id=\"df-cc5fc9f6-1c46-4e03-93ba-ce1f91cf430e\" class=\"colab-df-container\">\n",
              "    <div>\n",
              "<style scoped>\n",
              "    .dataframe tbody tr th:only-of-type {\n",
              "        vertical-align: middle;\n",
              "    }\n",
              "\n",
              "    .dataframe tbody tr th {\n",
              "        vertical-align: top;\n",
              "    }\n",
              "\n",
              "    .dataframe thead th {\n",
              "        text-align: right;\n",
              "    }\n",
              "</style>\n",
              "<table border=\"1\" class=\"dataframe\">\n",
              "  <thead>\n",
              "    <tr style=\"text-align: right;\">\n",
              "      <th></th>\n",
              "      <th>tokens</th>\n",
              "      <th>tokens_no_stopwords</th>\n",
              "    </tr>\n",
              "  </thead>\n",
              "  <tbody>\n",
              "    <tr>\n",
              "      <th>0</th>\n",
              "      <td>[very, disappointed, with, the, overall, perfo...</td>\n",
              "      <td>[disappointed, overall, performance, samsung]</td>\n",
              "    </tr>\n",
              "    <tr>\n",
              "      <th>1</th>\n",
              "      <td>[camera, quality, is, low]</td>\n",
              "      <td>[camera, quality, low]</td>\n",
              "    </tr>\n",
              "    <tr>\n",
              "      <th>2</th>\n",
              "      <td>[got, the, mobile, on, the, launch, datebatter...</td>\n",
              "      <td>[got, mobile, launch, datebattery, must, appre...</td>\n",
              "    </tr>\n",
              "    <tr>\n",
              "      <th>3</th>\n",
              "      <td>[1, it, doesnt, work, with, 50ghz, wifi, frequ...</td>\n",
              "      <td>[1, doesnt, work, 50ghz, wifi, frequency, 24gh...</td>\n",
              "    </tr>\n",
              "    <tr>\n",
              "      <th>4</th>\n",
              "      <td>[not, worth, buyingfaulty, software, poor, dis...</td>\n",
              "      <td>[worth, buyingfaulty, software, poor, display,...</td>\n",
              "    </tr>\n",
              "  </tbody>\n",
              "</table>\n",
              "</div>\n",
              "    <div class=\"colab-df-buttons\">\n",
              "\n",
              "  <div class=\"colab-df-container\">\n",
              "    <button class=\"colab-df-convert\" onclick=\"convertToInteractive('df-cc5fc9f6-1c46-4e03-93ba-ce1f91cf430e')\"\n",
              "            title=\"Convert this dataframe to an interactive table.\"\n",
              "            style=\"display:none;\">\n",
              "\n",
              "  <svg xmlns=\"http://www.w3.org/2000/svg\" height=\"24px\" viewBox=\"0 -960 960 960\">\n",
              "    <path d=\"M120-120v-720h720v720H120Zm60-500h600v-160H180v160Zm220 220h160v-160H400v160Zm0 220h160v-160H400v160ZM180-400h160v-160H180v160Zm440 0h160v-160H620v160ZM180-180h160v-160H180v160Zm440 0h160v-160H620v160Z\"/>\n",
              "  </svg>\n",
              "    </button>\n",
              "\n",
              "  <style>\n",
              "    .colab-df-container {\n",
              "      display:flex;\n",
              "      gap: 12px;\n",
              "    }\n",
              "\n",
              "    .colab-df-convert {\n",
              "      background-color: #E8F0FE;\n",
              "      border: none;\n",
              "      border-radius: 50%;\n",
              "      cursor: pointer;\n",
              "      display: none;\n",
              "      fill: #1967D2;\n",
              "      height: 32px;\n",
              "      padding: 0 0 0 0;\n",
              "      width: 32px;\n",
              "    }\n",
              "\n",
              "    .colab-df-convert:hover {\n",
              "      background-color: #E2EBFA;\n",
              "      box-shadow: 0px 1px 2px rgba(60, 64, 67, 0.3), 0px 1px 3px 1px rgba(60, 64, 67, 0.15);\n",
              "      fill: #174EA6;\n",
              "    }\n",
              "\n",
              "    .colab-df-buttons div {\n",
              "      margin-bottom: 4px;\n",
              "    }\n",
              "\n",
              "    [theme=dark] .colab-df-convert {\n",
              "      background-color: #3B4455;\n",
              "      fill: #D2E3FC;\n",
              "    }\n",
              "\n",
              "    [theme=dark] .colab-df-convert:hover {\n",
              "      background-color: #434B5C;\n",
              "      box-shadow: 0px 1px 3px 1px rgba(0, 0, 0, 0.15);\n",
              "      filter: drop-shadow(0px 1px 2px rgba(0, 0, 0, 0.3));\n",
              "      fill: #FFFFFF;\n",
              "    }\n",
              "  </style>\n",
              "\n",
              "    <script>\n",
              "      const buttonEl =\n",
              "        document.querySelector('#df-cc5fc9f6-1c46-4e03-93ba-ce1f91cf430e button.colab-df-convert');\n",
              "      buttonEl.style.display =\n",
              "        google.colab.kernel.accessAllowed ? 'block' : 'none';\n",
              "\n",
              "      async function convertToInteractive(key) {\n",
              "        const element = document.querySelector('#df-cc5fc9f6-1c46-4e03-93ba-ce1f91cf430e');\n",
              "        const dataTable =\n",
              "          await google.colab.kernel.invokeFunction('convertToInteractive',\n",
              "                                                    [key], {});\n",
              "        if (!dataTable) return;\n",
              "\n",
              "        const docLinkHtml = 'Like what you see? Visit the ' +\n",
              "          '<a target=\"_blank\" href=https://colab.research.google.com/notebooks/data_table.ipynb>data table notebook</a>'\n",
              "          + ' to learn more about interactive tables.';\n",
              "        element.innerHTML = '';\n",
              "        dataTable['output_type'] = 'display_data';\n",
              "        await google.colab.output.renderOutput(dataTable, element);\n",
              "        const docLink = document.createElement('div');\n",
              "        docLink.innerHTML = docLinkHtml;\n",
              "        element.appendChild(docLink);\n",
              "      }\n",
              "    </script>\n",
              "  </div>\n",
              "\n",
              "\n",
              "    <div id=\"df-fabf3249-70ed-4a27-b270-76186fe40cf1\">\n",
              "      <button class=\"colab-df-quickchart\" onclick=\"quickchart('df-fabf3249-70ed-4a27-b270-76186fe40cf1')\"\n",
              "                title=\"Suggest charts\"\n",
              "                style=\"display:none;\">\n",
              "\n",
              "<svg xmlns=\"http://www.w3.org/2000/svg\" height=\"24px\"viewBox=\"0 0 24 24\"\n",
              "     width=\"24px\">\n",
              "    <g>\n",
              "        <path d=\"M19 3H5c-1.1 0-2 .9-2 2v14c0 1.1.9 2 2 2h14c1.1 0 2-.9 2-2V5c0-1.1-.9-2-2-2zM9 17H7v-7h2v7zm4 0h-2V7h2v10zm4 0h-2v-4h2v4z\"/>\n",
              "    </g>\n",
              "</svg>\n",
              "      </button>\n",
              "\n",
              "<style>\n",
              "  .colab-df-quickchart {\n",
              "      --bg-color: #E8F0FE;\n",
              "      --fill-color: #1967D2;\n",
              "      --hover-bg-color: #E2EBFA;\n",
              "      --hover-fill-color: #174EA6;\n",
              "      --disabled-fill-color: #AAA;\n",
              "      --disabled-bg-color: #DDD;\n",
              "  }\n",
              "\n",
              "  [theme=dark] .colab-df-quickchart {\n",
              "      --bg-color: #3B4455;\n",
              "      --fill-color: #D2E3FC;\n",
              "      --hover-bg-color: #434B5C;\n",
              "      --hover-fill-color: #FFFFFF;\n",
              "      --disabled-bg-color: #3B4455;\n",
              "      --disabled-fill-color: #666;\n",
              "  }\n",
              "\n",
              "  .colab-df-quickchart {\n",
              "    background-color: var(--bg-color);\n",
              "    border: none;\n",
              "    border-radius: 50%;\n",
              "    cursor: pointer;\n",
              "    display: none;\n",
              "    fill: var(--fill-color);\n",
              "    height: 32px;\n",
              "    padding: 0;\n",
              "    width: 32px;\n",
              "  }\n",
              "\n",
              "  .colab-df-quickchart:hover {\n",
              "    background-color: var(--hover-bg-color);\n",
              "    box-shadow: 0 1px 2px rgba(60, 64, 67, 0.3), 0 1px 3px 1px rgba(60, 64, 67, 0.15);\n",
              "    fill: var(--button-hover-fill-color);\n",
              "  }\n",
              "\n",
              "  .colab-df-quickchart-complete:disabled,\n",
              "  .colab-df-quickchart-complete:disabled:hover {\n",
              "    background-color: var(--disabled-bg-color);\n",
              "    fill: var(--disabled-fill-color);\n",
              "    box-shadow: none;\n",
              "  }\n",
              "\n",
              "  .colab-df-spinner {\n",
              "    border: 2px solid var(--fill-color);\n",
              "    border-color: transparent;\n",
              "    border-bottom-color: var(--fill-color);\n",
              "    animation:\n",
              "      spin 1s steps(1) infinite;\n",
              "  }\n",
              "\n",
              "  @keyframes spin {\n",
              "    0% {\n",
              "      border-color: transparent;\n",
              "      border-bottom-color: var(--fill-color);\n",
              "      border-left-color: var(--fill-color);\n",
              "    }\n",
              "    20% {\n",
              "      border-color: transparent;\n",
              "      border-left-color: var(--fill-color);\n",
              "      border-top-color: var(--fill-color);\n",
              "    }\n",
              "    30% {\n",
              "      border-color: transparent;\n",
              "      border-left-color: var(--fill-color);\n",
              "      border-top-color: var(--fill-color);\n",
              "      border-right-color: var(--fill-color);\n",
              "    }\n",
              "    40% {\n",
              "      border-color: transparent;\n",
              "      border-right-color: var(--fill-color);\n",
              "      border-top-color: var(--fill-color);\n",
              "    }\n",
              "    60% {\n",
              "      border-color: transparent;\n",
              "      border-right-color: var(--fill-color);\n",
              "    }\n",
              "    80% {\n",
              "      border-color: transparent;\n",
              "      border-right-color: var(--fill-color);\n",
              "      border-bottom-color: var(--fill-color);\n",
              "    }\n",
              "    90% {\n",
              "      border-color: transparent;\n",
              "      border-bottom-color: var(--fill-color);\n",
              "    }\n",
              "  }\n",
              "</style>\n",
              "\n",
              "      <script>\n",
              "        async function quickchart(key) {\n",
              "          const quickchartButtonEl =\n",
              "            document.querySelector('#' + key + ' button');\n",
              "          quickchartButtonEl.disabled = true;  // To prevent multiple clicks.\n",
              "          quickchartButtonEl.classList.add('colab-df-spinner');\n",
              "          try {\n",
              "            const charts = await google.colab.kernel.invokeFunction(\n",
              "                'suggestCharts', [key], {});\n",
              "          } catch (error) {\n",
              "            console.error('Error during call to suggestCharts:', error);\n",
              "          }\n",
              "          quickchartButtonEl.classList.remove('colab-df-spinner');\n",
              "          quickchartButtonEl.classList.add('colab-df-quickchart-complete');\n",
              "        }\n",
              "        (() => {\n",
              "          let quickchartButtonEl =\n",
              "            document.querySelector('#df-fabf3249-70ed-4a27-b270-76186fe40cf1 button');\n",
              "          quickchartButtonEl.style.display =\n",
              "            google.colab.kernel.accessAllowed ? 'block' : 'none';\n",
              "        })();\n",
              "      </script>\n",
              "    </div>\n",
              "\n",
              "    </div>\n",
              "  </div>\n"
            ],
            "application/vnd.google.colaboratory.intrinsic+json": {
              "type": "dataframe",
              "summary": "{\n  \"name\": \"display(df[['tokens', 'tokens_no_stopwords']]\",\n  \"rows\": 5,\n  \"fields\": [\n    {\n      \"column\": \"tokens\",\n      \"properties\": {\n        \"dtype\": \"object\",\n        \"semantic_type\": \"\",\n        \"description\": \"\"\n      }\n    },\n    {\n      \"column\": \"tokens_no_stopwords\",\n      \"properties\": {\n        \"dtype\": \"object\",\n        \"semantic_type\": \"\",\n        \"description\": \"\"\n      }\n    }\n  ]\n}"
            }
          },
          "metadata": {}
        }
      ]
    },
    {
      "cell_type": "markdown",
      "source": [
        "\n",
        "\n",
        "*   **Lemmatization/Stemming:** Reduce words to their root form (e.g., \"running\" to \"run\").\n",
        "\n"
      ],
      "metadata": {
        "id": "mvonbRrVdnhY"
      }
    },
    {
      "cell_type": "code",
      "metadata": {
        "colab": {
          "base_uri": "https://localhost:8080/",
          "height": 206
        },
        "id": "6f42b198",
        "outputId": "6a191eb0-06a4-4f19-833b-1fda7c2d167c"
      },
      "source": [
        "from nltk.stem import WordNetLemmatizer\n",
        "from nltk.corpus import wordnet\n",
        "\n",
        "lemmatizer = WordNetLemmatizer()\n",
        "\n",
        "def get_wordnet_pos(word):\n",
        "    \"\"\"Map POS tag to first character used by WordNetLemmatizer\"\"\"\n",
        "    tag = nltk.pos_tag([word])[0][1][0].upper()\n",
        "    tag_dict = {\"N\": wordnet.NOUN,\n",
        "                \"V\": wordnet.VERB,\n",
        "                \"A\": wordnet.ADJ,\n",
        "                \"R\": wordnet.ADV}\n",
        "    return tag_dict.get(tag, wordnet.NOUN)\n",
        "\n",
        "df['lemmatized_tokens'] = df['tokens_no_stopwords'].apply(lambda tokens: [lemmatizer.lemmatize(word, get_wordnet_pos(word)) for word in tokens])\n",
        "display(df[['tokens_no_stopwords', 'lemmatized_tokens']].head())"
      ],
      "execution_count": 592,
      "outputs": [
        {
          "output_type": "display_data",
          "data": {
            "text/plain": [
              "                                 tokens_no_stopwords  \\\n",
              "0      [disappointed, overall, performance, samsung]   \n",
              "1                             [camera, quality, low]   \n",
              "2  [got, mobile, launch, datebattery, must, appre...   \n",
              "3  [1, doesnt, work, 50ghz, wifi, frequency, 24gh...   \n",
              "4  [worth, buyingfaulty, software, poor, display,...   \n",
              "\n",
              "                                   lemmatized_tokens  \n",
              "0      [disappointed, overall, performance, samsung]  \n",
              "1                             [camera, quality, low]  \n",
              "2  [get, mobile, launch, datebattery, must, appre...  \n",
              "3  [1, doesnt, work, 50ghz, wifi, frequency, 24gh...  \n",
              "4  [worth, buyingfaulty, software, poor, display,...  "
            ],
            "text/html": [
              "\n",
              "  <div id=\"df-2f69b907-3b7b-4039-b872-e58286c1cc20\" class=\"colab-df-container\">\n",
              "    <div>\n",
              "<style scoped>\n",
              "    .dataframe tbody tr th:only-of-type {\n",
              "        vertical-align: middle;\n",
              "    }\n",
              "\n",
              "    .dataframe tbody tr th {\n",
              "        vertical-align: top;\n",
              "    }\n",
              "\n",
              "    .dataframe thead th {\n",
              "        text-align: right;\n",
              "    }\n",
              "</style>\n",
              "<table border=\"1\" class=\"dataframe\">\n",
              "  <thead>\n",
              "    <tr style=\"text-align: right;\">\n",
              "      <th></th>\n",
              "      <th>tokens_no_stopwords</th>\n",
              "      <th>lemmatized_tokens</th>\n",
              "    </tr>\n",
              "  </thead>\n",
              "  <tbody>\n",
              "    <tr>\n",
              "      <th>0</th>\n",
              "      <td>[disappointed, overall, performance, samsung]</td>\n",
              "      <td>[disappointed, overall, performance, samsung]</td>\n",
              "    </tr>\n",
              "    <tr>\n",
              "      <th>1</th>\n",
              "      <td>[camera, quality, low]</td>\n",
              "      <td>[camera, quality, low]</td>\n",
              "    </tr>\n",
              "    <tr>\n",
              "      <th>2</th>\n",
              "      <td>[got, mobile, launch, datebattery, must, appre...</td>\n",
              "      <td>[get, mobile, launch, datebattery, must, appre...</td>\n",
              "    </tr>\n",
              "    <tr>\n",
              "      <th>3</th>\n",
              "      <td>[1, doesnt, work, 50ghz, wifi, frequency, 24gh...</td>\n",
              "      <td>[1, doesnt, work, 50ghz, wifi, frequency, 24gh...</td>\n",
              "    </tr>\n",
              "    <tr>\n",
              "      <th>4</th>\n",
              "      <td>[worth, buyingfaulty, software, poor, display,...</td>\n",
              "      <td>[worth, buyingfaulty, software, poor, display,...</td>\n",
              "    </tr>\n",
              "  </tbody>\n",
              "</table>\n",
              "</div>\n",
              "    <div class=\"colab-df-buttons\">\n",
              "\n",
              "  <div class=\"colab-df-container\">\n",
              "    <button class=\"colab-df-convert\" onclick=\"convertToInteractive('df-2f69b907-3b7b-4039-b872-e58286c1cc20')\"\n",
              "            title=\"Convert this dataframe to an interactive table.\"\n",
              "            style=\"display:none;\">\n",
              "\n",
              "  <svg xmlns=\"http://www.w3.org/2000/svg\" height=\"24px\" viewBox=\"0 -960 960 960\">\n",
              "    <path d=\"M120-120v-720h720v720H120Zm60-500h600v-160H180v160Zm220 220h160v-160H400v160Zm0 220h160v-160H400v160ZM180-400h160v-160H180v160Zm440 0h160v-160H620v160ZM180-180h160v-160H180v160Zm440 0h160v-160H620v160Z\"/>\n",
              "  </svg>\n",
              "    </button>\n",
              "\n",
              "  <style>\n",
              "    .colab-df-container {\n",
              "      display:flex;\n",
              "      gap: 12px;\n",
              "    }\n",
              "\n",
              "    .colab-df-convert {\n",
              "      background-color: #E8F0FE;\n",
              "      border: none;\n",
              "      border-radius: 50%;\n",
              "      cursor: pointer;\n",
              "      display: none;\n",
              "      fill: #1967D2;\n",
              "      height: 32px;\n",
              "      padding: 0 0 0 0;\n",
              "      width: 32px;\n",
              "    }\n",
              "\n",
              "    .colab-df-convert:hover {\n",
              "      background-color: #E2EBFA;\n",
              "      box-shadow: 0px 1px 2px rgba(60, 64, 67, 0.3), 0px 1px 3px 1px rgba(60, 64, 67, 0.15);\n",
              "      fill: #174EA6;\n",
              "    }\n",
              "\n",
              "    .colab-df-buttons div {\n",
              "      margin-bottom: 4px;\n",
              "    }\n",
              "\n",
              "    [theme=dark] .colab-df-convert {\n",
              "      background-color: #3B4455;\n",
              "      fill: #D2E3FC;\n",
              "    }\n",
              "\n",
              "    [theme=dark] .colab-df-convert:hover {\n",
              "      background-color: #434B5C;\n",
              "      box-shadow: 0px 1px 3px 1px rgba(0, 0, 0, 0.15);\n",
              "      filter: drop-shadow(0px 1px 2px rgba(0, 0, 0, 0.3));\n",
              "      fill: #FFFFFF;\n",
              "    }\n",
              "  </style>\n",
              "\n",
              "    <script>\n",
              "      const buttonEl =\n",
              "        document.querySelector('#df-2f69b907-3b7b-4039-b872-e58286c1cc20 button.colab-df-convert');\n",
              "      buttonEl.style.display =\n",
              "        google.colab.kernel.accessAllowed ? 'block' : 'none';\n",
              "\n",
              "      async function convertToInteractive(key) {\n",
              "        const element = document.querySelector('#df-2f69b907-3b7b-4039-b872-e58286c1cc20');\n",
              "        const dataTable =\n",
              "          await google.colab.kernel.invokeFunction('convertToInteractive',\n",
              "                                                    [key], {});\n",
              "        if (!dataTable) return;\n",
              "\n",
              "        const docLinkHtml = 'Like what you see? Visit the ' +\n",
              "          '<a target=\"_blank\" href=https://colab.research.google.com/notebooks/data_table.ipynb>data table notebook</a>'\n",
              "          + ' to learn more about interactive tables.';\n",
              "        element.innerHTML = '';\n",
              "        dataTable['output_type'] = 'display_data';\n",
              "        await google.colab.output.renderOutput(dataTable, element);\n",
              "        const docLink = document.createElement('div');\n",
              "        docLink.innerHTML = docLinkHtml;\n",
              "        element.appendChild(docLink);\n",
              "      }\n",
              "    </script>\n",
              "  </div>\n",
              "\n",
              "\n",
              "    <div id=\"df-b863fe13-e1f0-4c98-b41f-bf76d069d3a5\">\n",
              "      <button class=\"colab-df-quickchart\" onclick=\"quickchart('df-b863fe13-e1f0-4c98-b41f-bf76d069d3a5')\"\n",
              "                title=\"Suggest charts\"\n",
              "                style=\"display:none;\">\n",
              "\n",
              "<svg xmlns=\"http://www.w3.org/2000/svg\" height=\"24px\"viewBox=\"0 0 24 24\"\n",
              "     width=\"24px\">\n",
              "    <g>\n",
              "        <path d=\"M19 3H5c-1.1 0-2 .9-2 2v14c0 1.1.9 2 2 2h14c1.1 0 2-.9 2-2V5c0-1.1-.9-2-2-2zM9 17H7v-7h2v7zm4 0h-2V7h2v10zm4 0h-2v-4h2v4z\"/>\n",
              "    </g>\n",
              "</svg>\n",
              "      </button>\n",
              "\n",
              "<style>\n",
              "  .colab-df-quickchart {\n",
              "      --bg-color: #E8F0FE;\n",
              "      --fill-color: #1967D2;\n",
              "      --hover-bg-color: #E2EBFA;\n",
              "      --hover-fill-color: #174EA6;\n",
              "      --disabled-fill-color: #AAA;\n",
              "      --disabled-bg-color: #DDD;\n",
              "  }\n",
              "\n",
              "  [theme=dark] .colab-df-quickchart {\n",
              "      --bg-color: #3B4455;\n",
              "      --fill-color: #D2E3FC;\n",
              "      --hover-bg-color: #434B5C;\n",
              "      --hover-fill-color: #FFFFFF;\n",
              "      --disabled-bg-color: #3B4455;\n",
              "      --disabled-fill-color: #666;\n",
              "  }\n",
              "\n",
              "  .colab-df-quickchart {\n",
              "    background-color: var(--bg-color);\n",
              "    border: none;\n",
              "    border-radius: 50%;\n",
              "    cursor: pointer;\n",
              "    display: none;\n",
              "    fill: var(--fill-color);\n",
              "    height: 32px;\n",
              "    padding: 0;\n",
              "    width: 32px;\n",
              "  }\n",
              "\n",
              "  .colab-df-quickchart:hover {\n",
              "    background-color: var(--hover-bg-color);\n",
              "    box-shadow: 0 1px 2px rgba(60, 64, 67, 0.3), 0 1px 3px 1px rgba(60, 64, 67, 0.15);\n",
              "    fill: var(--button-hover-fill-color);\n",
              "  }\n",
              "\n",
              "  .colab-df-quickchart-complete:disabled,\n",
              "  .colab-df-quickchart-complete:disabled:hover {\n",
              "    background-color: var(--disabled-bg-color);\n",
              "    fill: var(--disabled-fill-color);\n",
              "    box-shadow: none;\n",
              "  }\n",
              "\n",
              "  .colab-df-spinner {\n",
              "    border: 2px solid var(--fill-color);\n",
              "    border-color: transparent;\n",
              "    border-bottom-color: var(--fill-color);\n",
              "    animation:\n",
              "      spin 1s steps(1) infinite;\n",
              "  }\n",
              "\n",
              "  @keyframes spin {\n",
              "    0% {\n",
              "      border-color: transparent;\n",
              "      border-bottom-color: var(--fill-color);\n",
              "      border-left-color: var(--fill-color);\n",
              "    }\n",
              "    20% {\n",
              "      border-color: transparent;\n",
              "      border-left-color: var(--fill-color);\n",
              "      border-top-color: var(--fill-color);\n",
              "    }\n",
              "    30% {\n",
              "      border-color: transparent;\n",
              "      border-left-color: var(--fill-color);\n",
              "      border-top-color: var(--fill-color);\n",
              "      border-right-color: var(--fill-color);\n",
              "    }\n",
              "    40% {\n",
              "      border-color: transparent;\n",
              "      border-right-color: var(--fill-color);\n",
              "      border-top-color: var(--fill-color);\n",
              "    }\n",
              "    60% {\n",
              "      border-color: transparent;\n",
              "      border-right-color: var(--fill-color);\n",
              "    }\n",
              "    80% {\n",
              "      border-color: transparent;\n",
              "      border-right-color: var(--fill-color);\n",
              "      border-bottom-color: var(--fill-color);\n",
              "    }\n",
              "    90% {\n",
              "      border-color: transparent;\n",
              "      border-bottom-color: var(--fill-color);\n",
              "    }\n",
              "  }\n",
              "</style>\n",
              "\n",
              "      <script>\n",
              "        async function quickchart(key) {\n",
              "          const quickchartButtonEl =\n",
              "            document.querySelector('#' + key + ' button');\n",
              "          quickchartButtonEl.disabled = true;  // To prevent multiple clicks.\n",
              "          quickchartButtonEl.classList.add('colab-df-spinner');\n",
              "          try {\n",
              "            const charts = await google.colab.kernel.invokeFunction(\n",
              "                'suggestCharts', [key], {});\n",
              "          } catch (error) {\n",
              "            console.error('Error during call to suggestCharts:', error);\n",
              "          }\n",
              "          quickchartButtonEl.classList.remove('colab-df-spinner');\n",
              "          quickchartButtonEl.classList.add('colab-df-quickchart-complete');\n",
              "        }\n",
              "        (() => {\n",
              "          let quickchartButtonEl =\n",
              "            document.querySelector('#df-b863fe13-e1f0-4c98-b41f-bf76d069d3a5 button');\n",
              "          quickchartButtonEl.style.display =\n",
              "            google.colab.kernel.accessAllowed ? 'block' : 'none';\n",
              "        })();\n",
              "      </script>\n",
              "    </div>\n",
              "\n",
              "    </div>\n",
              "  </div>\n"
            ],
            "application/vnd.google.colaboratory.intrinsic+json": {
              "type": "dataframe",
              "summary": "{\n  \"name\": \"display(df[['tokens_no_stopwords', 'lemmatized_tokens']]\",\n  \"rows\": 5,\n  \"fields\": [\n    {\n      \"column\": \"tokens_no_stopwords\",\n      \"properties\": {\n        \"dtype\": \"object\",\n        \"semantic_type\": \"\",\n        \"description\": \"\"\n      }\n    },\n    {\n      \"column\": \"lemmatized_tokens\",\n      \"properties\": {\n        \"dtype\": \"object\",\n        \"semantic_type\": \"\",\n        \"description\": \"\"\n      }\n    }\n  ]\n}"
            }
          },
          "metadata": {}
        }
      ]
    },
    {
      "cell_type": "markdown",
      "source": [
        "## B. Sentiment Labeling"
      ],
      "metadata": {
        "id": "GkYHMO79dwUB"
      }
    },
    {
      "cell_type": "markdown",
      "source": [
        "\n",
        "\n",
        "*   **Binary Classification (Positive/Negative):** A common approach is to classify 4 and 5-star ratings as Positive (1) and 1 or 2-star ratings as Negative (0). You may choose to drop 3-star (Neutral) reviews or categorize them separately.\n",
        "\n"
      ],
      "metadata": {
        "id": "bQWETii2dzsq"
      }
    },
    {
      "cell_type": "code",
      "metadata": {
        "colab": {
          "base_uri": "https://localhost:8080/",
          "height": 398
        },
        "id": "881e3e52",
        "outputId": "e1d0d446-0c66-48bb-d0aa-76fd0cfd2357"
      },
      "source": [
        "def categorize_sentiment(rating):\n",
        "    if rating in [4, 5]:\n",
        "        return 1  # Positive\n",
        "    elif rating in [1, 2]:\n",
        "        return 0  # Negative\n",
        "    else:\n",
        "        return 2  # Neutral (rating 3)\n",
        "\n",
        "df['sentiment_categorized'] = df['rating'].apply(categorize_sentiment)\n",
        "\n",
        "display(df[['rating', 'sentiment_categorized']].head())\n",
        "display(df['sentiment_categorized'].value_counts().rename('Sentiment Counts (Categorized)'))"
      ],
      "execution_count": 593,
      "outputs": [
        {
          "output_type": "display_data",
          "data": {
            "text/plain": [
              "   rating  sentiment_categorized\n",
              "0       1                      0\n",
              "1       3                      2\n",
              "2       4                      1\n",
              "3       1                      0\n",
              "4       1                      0"
            ],
            "text/html": [
              "\n",
              "  <div id=\"df-57e2a7b0-742a-40bb-8c3f-d92258726067\" class=\"colab-df-container\">\n",
              "    <div>\n",
              "<style scoped>\n",
              "    .dataframe tbody tr th:only-of-type {\n",
              "        vertical-align: middle;\n",
              "    }\n",
              "\n",
              "    .dataframe tbody tr th {\n",
              "        vertical-align: top;\n",
              "    }\n",
              "\n",
              "    .dataframe thead th {\n",
              "        text-align: right;\n",
              "    }\n",
              "</style>\n",
              "<table border=\"1\" class=\"dataframe\">\n",
              "  <thead>\n",
              "    <tr style=\"text-align: right;\">\n",
              "      <th></th>\n",
              "      <th>rating</th>\n",
              "      <th>sentiment_categorized</th>\n",
              "    </tr>\n",
              "  </thead>\n",
              "  <tbody>\n",
              "    <tr>\n",
              "      <th>0</th>\n",
              "      <td>1</td>\n",
              "      <td>0</td>\n",
              "    </tr>\n",
              "    <tr>\n",
              "      <th>1</th>\n",
              "      <td>3</td>\n",
              "      <td>2</td>\n",
              "    </tr>\n",
              "    <tr>\n",
              "      <th>2</th>\n",
              "      <td>4</td>\n",
              "      <td>1</td>\n",
              "    </tr>\n",
              "    <tr>\n",
              "      <th>3</th>\n",
              "      <td>1</td>\n",
              "      <td>0</td>\n",
              "    </tr>\n",
              "    <tr>\n",
              "      <th>4</th>\n",
              "      <td>1</td>\n",
              "      <td>0</td>\n",
              "    </tr>\n",
              "  </tbody>\n",
              "</table>\n",
              "</div>\n",
              "    <div class=\"colab-df-buttons\">\n",
              "\n",
              "  <div class=\"colab-df-container\">\n",
              "    <button class=\"colab-df-convert\" onclick=\"convertToInteractive('df-57e2a7b0-742a-40bb-8c3f-d92258726067')\"\n",
              "            title=\"Convert this dataframe to an interactive table.\"\n",
              "            style=\"display:none;\">\n",
              "\n",
              "  <svg xmlns=\"http://www.w3.org/2000/svg\" height=\"24px\" viewBox=\"0 -960 960 960\">\n",
              "    <path d=\"M120-120v-720h720v720H120Zm60-500h600v-160H180v160Zm220 220h160v-160H400v160Zm0 220h160v-160H400v160ZM180-400h160v-160H180v160Zm440 0h160v-160H620v160ZM180-180h160v-160H180v160Zm440 0h160v-160H620v160Z\"/>\n",
              "  </svg>\n",
              "    </button>\n",
              "\n",
              "  <style>\n",
              "    .colab-df-container {\n",
              "      display:flex;\n",
              "      gap: 12px;\n",
              "    }\n",
              "\n",
              "    .colab-df-convert {\n",
              "      background-color: #E8F0FE;\n",
              "      border: none;\n",
              "      border-radius: 50%;\n",
              "      cursor: pointer;\n",
              "      display: none;\n",
              "      fill: #1967D2;\n",
              "      height: 32px;\n",
              "      padding: 0 0 0 0;\n",
              "      width: 32px;\n",
              "    }\n",
              "\n",
              "    .colab-df-convert:hover {\n",
              "      background-color: #E2EBFA;\n",
              "      box-shadow: 0px 1px 2px rgba(60, 64, 67, 0.3), 0px 1px 3px 1px rgba(60, 64, 67, 0.15);\n",
              "      fill: #174EA6;\n",
              "    }\n",
              "\n",
              "    .colab-df-buttons div {\n",
              "      margin-bottom: 4px;\n",
              "    }\n",
              "\n",
              "    [theme=dark] .colab-df-convert {\n",
              "      background-color: #3B4455;\n",
              "      fill: #D2E3FC;\n",
              "    }\n",
              "\n",
              "    [theme=dark] .colab-df-convert:hover {\n",
              "      background-color: #434B5C;\n",
              "      box-shadow: 0px 1px 3px 1px rgba(0, 0, 0, 0.15);\n",
              "      filter: drop-shadow(0px 1px 2px rgba(0, 0, 0, 0.3));\n",
              "      fill: #FFFFFF;\n",
              "    }\n",
              "  </style>\n",
              "\n",
              "    <script>\n",
              "      const buttonEl =\n",
              "        document.querySelector('#df-57e2a7b0-742a-40bb-8c3f-d92258726067 button.colab-df-convert');\n",
              "      buttonEl.style.display =\n",
              "        google.colab.kernel.accessAllowed ? 'block' : 'none';\n",
              "\n",
              "      async function convertToInteractive(key) {\n",
              "        const element = document.querySelector('#df-57e2a7b0-742a-40bb-8c3f-d92258726067');\n",
              "        const dataTable =\n",
              "          await google.colab.kernel.invokeFunction('convertToInteractive',\n",
              "                                                    [key], {});\n",
              "        if (!dataTable) return;\n",
              "\n",
              "        const docLinkHtml = 'Like what you see? Visit the ' +\n",
              "          '<a target=\"_blank\" href=https://colab.research.google.com/notebooks/data_table.ipynb>data table notebook</a>'\n",
              "          + ' to learn more about interactive tables.';\n",
              "        element.innerHTML = '';\n",
              "        dataTable['output_type'] = 'display_data';\n",
              "        await google.colab.output.renderOutput(dataTable, element);\n",
              "        const docLink = document.createElement('div');\n",
              "        docLink.innerHTML = docLinkHtml;\n",
              "        element.appendChild(docLink);\n",
              "      }\n",
              "    </script>\n",
              "  </div>\n",
              "\n",
              "\n",
              "    <div id=\"df-ab5483b0-65d7-4a28-b3da-9d60783f661a\">\n",
              "      <button class=\"colab-df-quickchart\" onclick=\"quickchart('df-ab5483b0-65d7-4a28-b3da-9d60783f661a')\"\n",
              "                title=\"Suggest charts\"\n",
              "                style=\"display:none;\">\n",
              "\n",
              "<svg xmlns=\"http://www.w3.org/2000/svg\" height=\"24px\"viewBox=\"0 0 24 24\"\n",
              "     width=\"24px\">\n",
              "    <g>\n",
              "        <path d=\"M19 3H5c-1.1 0-2 .9-2 2v14c0 1.1.9 2 2 2h14c1.1 0 2-.9 2-2V5c0-1.1-.9-2-2-2zM9 17H7v-7h2v7zm4 0h-2V7h2v10zm4 0h-2v-4h2v4z\"/>\n",
              "    </g>\n",
              "</svg>\n",
              "      </button>\n",
              "\n",
              "<style>\n",
              "  .colab-df-quickchart {\n",
              "      --bg-color: #E8F0FE;\n",
              "      --fill-color: #1967D2;\n",
              "      --hover-bg-color: #E2EBFA;\n",
              "      --hover-fill-color: #174EA6;\n",
              "      --disabled-fill-color: #AAA;\n",
              "      --disabled-bg-color: #DDD;\n",
              "  }\n",
              "\n",
              "  [theme=dark] .colab-df-quickchart {\n",
              "      --bg-color: #3B4455;\n",
              "      --fill-color: #D2E3FC;\n",
              "      --hover-bg-color: #434B5C;\n",
              "      --hover-fill-color: #FFFFFF;\n",
              "      --disabled-bg-color: #3B4455;\n",
              "      --disabled-fill-color: #666;\n",
              "  }\n",
              "\n",
              "  .colab-df-quickchart {\n",
              "    background-color: var(--bg-color);\n",
              "    border: none;\n",
              "    border-radius: 50%;\n",
              "    cursor: pointer;\n",
              "    display: none;\n",
              "    fill: var(--fill-color);\n",
              "    height: 32px;\n",
              "    padding: 0;\n",
              "    width: 32px;\n",
              "  }\n",
              "\n",
              "  .colab-df-quickchart:hover {\n",
              "    background-color: var(--hover-bg-color);\n",
              "    box-shadow: 0 1px 2px rgba(60, 64, 67, 0.3), 0 1px 3px 1px rgba(60, 64, 67, 0.15);\n",
              "    fill: var(--button-hover-fill-color);\n",
              "  }\n",
              "\n",
              "  .colab-df-quickchart-complete:disabled,\n",
              "  .colab-df-quickchart-complete:disabled:hover {\n",
              "    background-color: var(--disabled-bg-color);\n",
              "    fill: var(--disabled-fill-color);\n",
              "    box-shadow: none;\n",
              "  }\n",
              "\n",
              "  .colab-df-spinner {\n",
              "    border: 2px solid var(--fill-color);\n",
              "    border-color: transparent;\n",
              "    border-bottom-color: var(--fill-color);\n",
              "    animation:\n",
              "      spin 1s steps(1) infinite;\n",
              "  }\n",
              "\n",
              "  @keyframes spin {\n",
              "    0% {\n",
              "      border-color: transparent;\n",
              "      border-bottom-color: var(--fill-color);\n",
              "      border-left-color: var(--fill-color);\n",
              "    }\n",
              "    20% {\n",
              "      border-color: transparent;\n",
              "      border-left-color: var(--fill-color);\n",
              "      border-top-color: var(--fill-color);\n",
              "    }\n",
              "    30% {\n",
              "      border-color: transparent;\n",
              "      border-left-color: var(--fill-color);\n",
              "      border-top-color: var(--fill-color);\n",
              "      border-right-color: var(--fill-color);\n",
              "    }\n",
              "    40% {\n",
              "      border-color: transparent;\n",
              "      border-right-color: var(--fill-color);\n",
              "      border-top-color: var(--fill-color);\n",
              "    }\n",
              "    60% {\n",
              "      border-color: transparent;\n",
              "      border-right-color: var(--fill-color);\n",
              "    }\n",
              "    80% {\n",
              "      border-color: transparent;\n",
              "      border-right-color: var(--fill-color);\n",
              "      border-bottom-color: var(--fill-color);\n",
              "    }\n",
              "    90% {\n",
              "      border-color: transparent;\n",
              "      border-bottom-color: var(--fill-color);\n",
              "    }\n",
              "  }\n",
              "</style>\n",
              "\n",
              "      <script>\n",
              "        async function quickchart(key) {\n",
              "          const quickchartButtonEl =\n",
              "            document.querySelector('#' + key + ' button');\n",
              "          quickchartButtonEl.disabled = true;  // To prevent multiple clicks.\n",
              "          quickchartButtonEl.classList.add('colab-df-spinner');\n",
              "          try {\n",
              "            const charts = await google.colab.kernel.invokeFunction(\n",
              "                'suggestCharts', [key], {});\n",
              "          } catch (error) {\n",
              "            console.error('Error during call to suggestCharts:', error);\n",
              "          }\n",
              "          quickchartButtonEl.classList.remove('colab-df-spinner');\n",
              "          quickchartButtonEl.classList.add('colab-df-quickchart-complete');\n",
              "        }\n",
              "        (() => {\n",
              "          let quickchartButtonEl =\n",
              "            document.querySelector('#df-ab5483b0-65d7-4a28-b3da-9d60783f661a button');\n",
              "          quickchartButtonEl.style.display =\n",
              "            google.colab.kernel.accessAllowed ? 'block' : 'none';\n",
              "        })();\n",
              "      </script>\n",
              "    </div>\n",
              "\n",
              "    </div>\n",
              "  </div>\n"
            ],
            "application/vnd.google.colaboratory.intrinsic+json": {
              "type": "dataframe",
              "summary": "{\n  \"name\": \"display(df['sentiment_categorized']\",\n  \"rows\": 5,\n  \"fields\": [\n    {\n      \"column\": \"rating\",\n      \"properties\": {\n        \"dtype\": \"number\",\n        \"std\": 1,\n        \"min\": 1,\n        \"max\": 4,\n        \"num_unique_values\": 3,\n        \"samples\": [\n          1,\n          3,\n          4\n        ],\n        \"semantic_type\": \"\",\n        \"description\": \"\"\n      }\n    },\n    {\n      \"column\": \"sentiment_categorized\",\n      \"properties\": {\n        \"dtype\": \"number\",\n        \"std\": 0,\n        \"min\": 0,\n        \"max\": 2,\n        \"num_unique_values\": 3,\n        \"samples\": [\n          0,\n          2,\n          1\n        ],\n        \"semantic_type\": \"\",\n        \"description\": \"\"\n      }\n    }\n  ]\n}"
            }
          },
          "metadata": {}
        },
        {
          "output_type": "display_data",
          "data": {
            "text/plain": [
              "sentiment_categorized\n",
              "1    729\n",
              "0    512\n",
              "2    199\n",
              "Name: Sentiment Counts (Categorized), dtype: int64"
            ],
            "text/html": [
              "<div>\n",
              "<style scoped>\n",
              "    .dataframe tbody tr th:only-of-type {\n",
              "        vertical-align: middle;\n",
              "    }\n",
              "\n",
              "    .dataframe tbody tr th {\n",
              "        vertical-align: top;\n",
              "    }\n",
              "\n",
              "    .dataframe thead th {\n",
              "        text-align: right;\n",
              "    }\n",
              "</style>\n",
              "<table border=\"1\" class=\"dataframe\">\n",
              "  <thead>\n",
              "    <tr style=\"text-align: right;\">\n",
              "      <th></th>\n",
              "      <th>Sentiment Counts (Categorized)</th>\n",
              "    </tr>\n",
              "    <tr>\n",
              "      <th>sentiment_categorized</th>\n",
              "      <th></th>\n",
              "    </tr>\n",
              "  </thead>\n",
              "  <tbody>\n",
              "    <tr>\n",
              "      <th>1</th>\n",
              "      <td>729</td>\n",
              "    </tr>\n",
              "    <tr>\n",
              "      <th>0</th>\n",
              "      <td>512</td>\n",
              "    </tr>\n",
              "    <tr>\n",
              "      <th>2</th>\n",
              "      <td>199</td>\n",
              "    </tr>\n",
              "  </tbody>\n",
              "</table>\n",
              "</div><br><label><b>dtype:</b> int64</label>"
            ]
          },
          "metadata": {}
        }
      ]
    },
    {
      "cell_type": "markdown",
      "source": [
        "## C. Feature Engineering (Vectorization)"
      ],
      "metadata": {
        "id": "ZlfpVGp4fKl5"
      }
    },
    {
      "cell_type": "markdown",
      "source": [
        "Convert the text data into a numerical format that a machine learning model can understand."
      ],
      "metadata": {
        "id": "EFPRuyhufW9f"
      }
    },
    {
      "cell_type": "markdown",
      "source": [
        "\n",
        "\n",
        "*   **Bag-of-Words (BoW) / CountVectorizer:** Counts the frequency of words.\n",
        "\n"
      ],
      "metadata": {
        "id": "-lAvWqhPfOH2"
      }
    },
    {
      "cell_type": "code",
      "metadata": {
        "colab": {
          "base_uri": "https://localhost:8080/"
        },
        "id": "e61d0be5",
        "outputId": "d8130eab-eead-42cb-a1cf-1c816aef9671"
      },
      "source": [
        "from sklearn.feature_extraction.text import CountVectorizer\n",
        "\n",
        "# Convert the list of tokens back to strings for CountVectorizer\n",
        "df['lemmatized_text'] = df['lemmatized_tokens'].apply(lambda tokens: ' '.join(tokens))\n",
        "\n",
        "count_vectorizer = CountVectorizer(max_features=5000) # You can adjust max_features\n",
        "count_matrix = count_vectorizer.fit_transform(df['lemmatized_text'])\n",
        "\n",
        "print(\"CountVectorizer matrix shape:\", count_matrix.shape)"
      ],
      "execution_count": 594,
      "outputs": [
        {
          "output_type": "stream",
          "name": "stdout",
          "text": [
            "CountVectorizer matrix shape: (1440, 5000)\n"
          ]
        }
      ]
    },
    {
      "cell_type": "markdown",
      "source": [
        "\n",
        "\n",
        "*   **TF-IDF (Term Frequency-Inverse Document Frequency):** Weights words by their importance (frequent in one document but rare across the corpus).\n",
        "\n"
      ],
      "metadata": {
        "id": "wob67sNkgFAt"
      }
    },
    {
      "cell_type": "code",
      "metadata": {
        "colab": {
          "base_uri": "https://localhost:8080/"
        },
        "id": "e61e90f2",
        "outputId": "30b471ee-618e-4b38-a39f-9a3a59c13c83"
      },
      "source": [
        "from sklearn.feature_extraction.text import TfidfVectorizer\n",
        "\n",
        "tfidf_vectorizer = TfidfVectorizer(max_features=5000) # You can adjust max_features\n",
        "tfidf_matrix = tfidf_vectorizer.fit_transform(df['lemmatized_text'])\n",
        "\n",
        "print(\"TF-IDF matrix shape:\", tfidf_matrix.shape)"
      ],
      "execution_count": 595,
      "outputs": [
        {
          "output_type": "stream",
          "name": "stdout",
          "text": [
            "TF-IDF matrix shape: (1440, 5000)\n"
          ]
        }
      ]
    },
    {
      "cell_type": "markdown",
      "source": [
        "\n",
        "\n",
        "*   Use the SMOTE (Synthetic Minority Over-sampling Technique) method to balance the training data.\n",
        "\n"
      ],
      "metadata": {
        "id": "A_zGcqBFuyk4"
      }
    },
    {
      "cell_type": "code",
      "source": [
        "# **Improvement 6: Addressing Class Imbalance using SMOTE**\n",
        "# SMOTE oversamples the minority class(es) by generating synthetic samples,\n",
        "# providing a more balanced training dataset.\n",
        "\n",
        "from collections import Counter\n",
        "from imblearn.over_sampling import SMOTE\n",
        "# Note: Ensure you have your feature matrix (X_train) and target labels (y_train) ready from the train_test_split.\n",
        "# X_train should be the result of your TF-IDF/CountVectorizer applied to the training set.\n",
        "\n",
        "# Check the distribution before SMOTE\n",
        "# Note: Run this cell AFTER the data splitting cell (bbe668ec)\n",
        "print(\"Original class distribution (y_train):\", Counter(y_train))\n",
        "\n",
        "# Initialize SMOTE with a random state for reproducibility\n",
        "smote = SMOTE(random_state=42)\n",
        "\n",
        "# Apply SMOTE only to the training data. Use X_train from the previous cell.\n",
        "X_resampled, y_resampled = smote.fit_resample(X_train, y_train)\n",
        "\n",
        "# Check the distribution after SMOTE\n",
        "print(\"Resampled class distribution (y_resampled):\", Counter(y_resampled))\n",
        "\n",
        "# Update: Use X_resampled and y_resampled for training the traditional ML models.\n",
        "# You would typically use these resampled dataframes in the cell where you train your model.\n",
        "# This cell now just demonstrates the resampling step."
      ],
      "metadata": {
        "colab": {
          "base_uri": "https://localhost:8080/"
        },
        "id": "ztZBWeyQuvRU",
        "outputId": "6c182a2c-2519-4093-ad42-da81ac127868"
      },
      "execution_count": 596,
      "outputs": [
        {
          "output_type": "stream",
          "name": "stdout",
          "text": [
            "Original class distribution (y_train): Counter({1: 596, 0: 401, 2: 155})\n",
            "Resampled class distribution (y_resampled): Counter({1: 596, 2: 596, 0: 596})\n"
          ]
        }
      ]
    },
    {
      "cell_type": "markdown",
      "source": [
        "\n",
        "\n",
        "*   Use Randomized Search Cross-Validation to efficiently find optimal hyperparameters, which inherently includes cross-validation.\n",
        "\n"
      ],
      "metadata": {
        "id": "njvxGPOvvXPg"
      }
    },
    {
      "cell_type": "code",
      "source": [
        "# **Improvement 4 & 5: Hyperparameter Tuning and Cross-validation**\n",
        "# We use RandomizedSearchCV with 5-fold cross-validation (cv=5) to find the best\n",
        "# hyperparameters for our Logistic Regression classifier.\n",
        "\n",
        "from sklearn.linear_model import LogisticRegression\n",
        "from sklearn.model_selection import RandomizedSearchCV\n",
        "from scipy.stats import uniform\n",
        "\n",
        "# Define the base model\n",
        "model = LogisticRegression(solver='liblinear', random_state=42, max_iter=1000)\n",
        "\n",
        "# Define the search space for hyperparameters\n",
        "# 'C': Inverse of regularization strength\n",
        "# 'penalty': Regularization norm\n",
        "param_dist = {\n",
        "    'C': uniform(loc=0.1, scale=10), # Search C between 0.1 and 10.1\n",
        "    'penalty': ['l1', 'l2']\n",
        "}\n",
        "\n",
        "# Initialize RandomizedSearchCV\n",
        "random_search = RandomizedSearchCV(\n",
        "    estimator=model,\n",
        "    param_distributions=param_dist,\n",
        "    n_iter=50,                  # Number of parameter settings that are sampled (tune this for time vs. performance)\n",
        "    cv=5,                       # Use 5-fold cross-validation\n",
        "    scoring='f1_weighted',      # Optimize for weighted F1-score (Improvement 3)\n",
        "    verbose=1,\n",
        "    n_jobs=-1,                  # Use all available cores\n",
        "    random_state=42\n",
        ")\n",
        "\n",
        "# Fit the random search to the resampled training data (if you used SMOTE)\n",
        "print(\"Starting Randomized Search Cross-Validation...\")\n",
        "# Note: Ensure X_resampled and y_resampled are defined from the SMOTE step (cell ztZBWeyQuvRU).\n",
        "# If not using SMOTE, use X_train and y_train from the train_test_split (cell bbe668ec).\n",
        "random_search.fit(X_resampled, y_resampled)\n",
        "\n",
        "# Output the best results\n",
        "print(\"\\n--- Hyperparameter Tuning Results ---\")\n",
        "print(f\"Best Weighted F1 Score (5-fold CV): {random_search.best_score_:.4f}\")\n",
        "print(f\"Best Hyperparameters: {random_search.best_params_}\")\n",
        "print(\"-------------------------------------\")\n",
        "\n",
        "# The final, optimized model to use for prediction and final evaluation\n",
        "best_model = random_search.best_estimator_\n",
        "\n",
        "# Use the best model for final prediction:\n",
        "# y_pred = best_model.predict(X_test_vec)\n",
        "# Now proceed to evaluate the best_model."
      ],
      "metadata": {
        "colab": {
          "base_uri": "https://localhost:8080/"
        },
        "id": "N669o_avvFN8",
        "outputId": "9ac85134-871f-413d-e480-c32a9ce96d2e"
      },
      "execution_count": 597,
      "outputs": [
        {
          "output_type": "stream",
          "name": "stdout",
          "text": [
            "Starting Randomized Search Cross-Validation...\n",
            "Fitting 5 folds for each of 50 candidates, totalling 250 fits\n",
            "\n",
            "--- Hyperparameter Tuning Results ---\n",
            "Best Weighted F1 Score (5-fold CV): 0.8820\n",
            "Best Hyperparameters: {'C': np.float64(8.424426408004217), 'penalty': 'l2'}\n",
            "-------------------------------------\n"
          ]
        }
      ]
    },
    {
      "cell_type": "markdown",
      "source": [
        "\n",
        "\n",
        "*   Implement a basic unit test class to ensure your preprocessing functions work reliably.\n",
        "\n"
      ],
      "metadata": {
        "id": "XmDEbkQryBbY"
      }
    },
    {
      "cell_type": "code",
      "source": [
        "# **Improvement 9: Unit Testing for Preprocessing Functions**\n",
        "# Unit tests confirm that the text cleaning step is robust against different types of noise.\n",
        "\n",
        "import unittest\n",
        "# Assuming your 'clean_text' function from Improvement 2 is defined earlier.\n",
        "\n",
        "class TestPreprocessing(unittest.TestCase):\n",
        "\n",
        "    def test_html_removal(self):\n",
        "        # Test case: Ensure HTML tags are completely removed.\n",
        "        self.assertEqual(clean_text(\"Review with <b>bold</b> text and <br> line break.\"),\n",
        "                         \"Review with bold text and line break\")\n",
        "\n",
        "    def test_special_char_and_spacing_removal(self):\n",
        "        # Test case: Remove punctuation, non-alphanumeric chars, and fix spacing.\n",
        "        self.assertEqual(clean_text(\"This is great!!! It cost $1,000. \\n\\n Extra space.\"),\n",
        "                         \"This is great It cost 1000 Extra space\")\n",
        "\n",
        "    def test_empty_and_null_input(self):\n",
        "        # Test case: Handle missing or non-string inputs gracefully.\n",
        "        self.assertEqual(clean_text(None), \"\")\n",
        "        self.assertEqual(clean_text(12345), \"\")\n",
        "\n",
        "# Run the tests in the Colab environment\n",
        "print(\"--- Running Unit Tests for `clean_text` ---\")\n",
        "unittest.main(argv=['first-arg-is-ignored'], exit=False)"
      ],
      "metadata": {
        "colab": {
          "base_uri": "https://localhost:8080/"
        },
        "id": "D4sEP9i8yHPX",
        "outputId": "c622feb8-2518-4e63-a5c7-7787877855bb"
      },
      "execution_count": 598,
      "outputs": [
        {
          "output_type": "stream",
          "name": "stderr",
          "text": [
            "...\n",
            "----------------------------------------------------------------------\n",
            "Ran 3 tests in 0.003s\n",
            "\n",
            "OK\n"
          ]
        },
        {
          "output_type": "stream",
          "name": "stdout",
          "text": [
            "--- Running Unit Tests for `clean_text` ---\n"
          ]
        },
        {
          "output_type": "execute_result",
          "data": {
            "text/plain": [
              "<unittest.main.TestProgram at 0x79cf6ad079e0>"
            ]
          },
          "metadata": {},
          "execution_count": 598
        }
      ]
    },
    {
      "cell_type": "code",
      "source": [
        "import pickle\n",
        "import os\n",
        "\n",
        "# Define the exact path where Streamlit expects the file\n",
        "VECTORIZER_PATH = '/content/drive/MyDrive/Colab Notebooks/tfidf_vectorizer.pkl'\n",
        "\n",
        "# Ensure the directory exists (optional, but good practice)\n",
        "os.makedirs(os.path.dirname(VECTORIZER_PATH), exist_ok=True)\n",
        "\n",
        "# Assuming your vectorizer object is named 'vectorizer' (or 'tfidf_vectorizer')\n",
        "print(\"Saving TF-IDF Vectorizer...\")\n",
        "try:\n",
        "    with open(VECTORIZER_PATH, 'wb') as f:\n",
        "        pickle.dump(tfidf_vectorizer, f)\n",
        "    print(f\"Vectorizer successfully saved to: {VECTORIZER_PATH}\")\n",
        "except Exception as e:\n",
        "    print(f\"Error saving vectorizer: {e}\")"
      ],
      "metadata": {
        "colab": {
          "base_uri": "https://localhost:8080/"
        },
        "id": "tUOqkqC2U4YM",
        "outputId": "df354663-43ab-487c-f90c-657cdde3c01e"
      },
      "execution_count": 599,
      "outputs": [
        {
          "output_type": "stream",
          "name": "stdout",
          "text": [
            "Saving TF-IDF Vectorizer...\n",
            "Vectorizer successfully saved to: /content/drive/MyDrive/Colab Notebooks/tfidf_vectorizer.pkl\n"
          ]
        }
      ]
    },
    {
      "cell_type": "markdown",
      "source": [
        "## D. Model Training and Evaluation"
      ],
      "metadata": {
        "id": "B8I8yZ4-gdIs"
      }
    },
    {
      "cell_type": "markdown",
      "source": [
        "\n",
        "\n",
        "> Algorithms:\n",
        "\n"
      ],
      "metadata": {
        "id": "0Ul5jZlzgg79"
      }
    },
    {
      "cell_type": "markdown",
      "source": [
        "\n",
        "\n",
        "*   **Traditional ML:** Logistic Regression, Naive Bayes, Support Vector Machines (SVM), or Random Forest are good starting points for text classification.\n",
        "\n"
      ],
      "metadata": {
        "id": "9dcxUZ00gsSl"
      }
    },
    {
      "cell_type": "code",
      "metadata": {
        "colab": {
          "base_uri": "https://localhost:8080/"
        },
        "id": "bbe668ec",
        "outputId": "b9176a84-e9a8-429a-a15f-80c2cc571bcb"
      },
      "source": [
        "from sklearn.model_selection import train_test_split\n",
        "from sklearn.linear_model import LogisticRegression\n",
        "from sklearn.metrics import accuracy_score, classification_report\n",
        "\n",
        "# Assuming you want to use the TF-IDF matrix and the categorized sentiment labels\n",
        "X = tfidf_matrix\n",
        "y = df['sentiment_categorized']\n",
        "\n",
        "# Split the data into training and testing sets\n",
        "X_train, X_test, y_train, y_test = train_test_split(X, y, test_size=0.2, random_state=42)\n",
        "\n",
        "# Initialize and train the Logistic Regression model\n",
        "model = LogisticRegression()\n",
        "model.fit(X_train, y_train)\n",
        "\n",
        "# Predict on the test set\n",
        "y_pred = model.predict(X_test)\n",
        "\n",
        "# Evaluate the model\n",
        "accuracy = accuracy_score(y_test, y_pred)\n",
        "report = classification_report(y_test, y_pred)\n",
        "\n",
        "print(f\"Accuracy: {accuracy}\")\n",
        "print(\"Classification Report:\\n\", report)"
      ],
      "execution_count": 600,
      "outputs": [
        {
          "output_type": "stream",
          "name": "stdout",
          "text": [
            "Accuracy: 0.7604166666666666\n",
            "Classification Report:\n",
            "               precision    recall  f1-score   support\n",
            "\n",
            "           0       0.88      0.83      0.85       111\n",
            "           1       0.69      0.95      0.80       133\n",
            "           2       0.00      0.00      0.00        44\n",
            "\n",
            "    accuracy                           0.76       288\n",
            "   macro avg       0.52      0.59      0.55       288\n",
            "weighted avg       0.66      0.76      0.70       288\n",
            "\n"
          ]
        },
        {
          "output_type": "stream",
          "name": "stderr",
          "text": [
            "/usr/local/lib/python3.12/dist-packages/sklearn/metrics/_classification.py:1565: UndefinedMetricWarning: Precision is ill-defined and being set to 0.0 in labels with no predicted samples. Use `zero_division` parameter to control this behavior.\n",
            "  _warn_prf(average, modifier, f\"{metric.capitalize()} is\", len(result))\n",
            "/usr/local/lib/python3.12/dist-packages/sklearn/metrics/_classification.py:1565: UndefinedMetricWarning: Precision is ill-defined and being set to 0.0 in labels with no predicted samples. Use `zero_division` parameter to control this behavior.\n",
            "  _warn_prf(average, modifier, f\"{metric.capitalize()} is\", len(result))\n",
            "/usr/local/lib/python3.12/dist-packages/sklearn/metrics/_classification.py:1565: UndefinedMetricWarning: Precision is ill-defined and being set to 0.0 in labels with no predicted samples. Use `zero_division` parameter to control this behavior.\n",
            "  _warn_prf(average, modifier, f\"{metric.capitalize()} is\", len(result))\n"
          ]
        }
      ]
    },
    {
      "cell_type": "markdown",
      "source": [
        "\n",
        "\n",
        "*   **Extract and highlight the key metrics** (F1-score, Precision, Recall) from the classification report for a clearer discussion, especially for the minority class.\n",
        "\n"
      ],
      "metadata": {
        "id": "SWWWD5lGtWNa"
      }
    },
    {
      "cell_type": "code",
      "source": [
        "# **Improvement 3: Enhanced Model Evaluation Metrics Display**\n",
        "# Explicitly highlight key metrics like Weighted F1-Score and the performance\n",
        "# on the minority class ('Neutral').\n",
        "\n",
        "from sklearn.metrics import classification_report\n",
        "\n",
        "# Assuming 'y_test' is the true labels and 'y_pred' are the model predictions.\n",
        "# Ensure 'target_names' map correctly to your label encoding (e.g., 0, 1, 2).\n",
        "report = classification_report(\n",
        "    y_test,\n",
        "    y_pred,\n",
        "    target_names=['Negative', 'Neutral', 'Positive'],\n",
        "    output_dict=True\n",
        ")\n",
        "\n",
        "# Overall Performance Summary\n",
        "weighted_f1 = report['weighted avg']['f1-score']\n",
        "accuracy = report['accuracy']\n",
        "print(f\"\\n--- Overall Key Performance Metrics ---\")\n",
        "print(f\"Overall Accuracy: {accuracy*100:.2f}%\")\n",
        "print(f\"Overall Weighted F1-Score: {weighted_f1:.4f} (Primary metric for imbalanced data)\")\n",
        "print(\"---------------------------------------\")\n",
        "\n",
        "# Performance on Minority Class (assuming 'Neutral' is the minority)\n",
        "neutral_metrics = report['Neutral']\n",
        "print(f\"\\nMetrics for Minority Class (Neutral):\")\n",
        "print(f\"  Precision: {neutral_metrics['precision']:.4f}\")\n",
        "print(f\"  Recall: {neutral_metrics['recall']:.4f}\")\n",
        "print(f\"  F1-Score: {neutral_metrics['f1-score']:.4f}\")\n",
        "print(f\"  Support: {neutral_metrics['support']} samples\")"
      ],
      "metadata": {
        "colab": {
          "base_uri": "https://localhost:8080/"
        },
        "id": "DHfTXIN2tKDy",
        "outputId": "60a751bc-6a19-4daf-d05c-5983b4012681"
      },
      "execution_count": 601,
      "outputs": [
        {
          "output_type": "stream",
          "name": "stdout",
          "text": [
            "\n",
            "--- Overall Key Performance Metrics ---\n",
            "Overall Accuracy: 76.04%\n",
            "Overall Weighted F1-Score: 0.6995 (Primary metric for imbalanced data)\n",
            "---------------------------------------\n",
            "\n",
            "Metrics for Minority Class (Neutral):\n",
            "  Precision: 0.6940\n",
            "  Recall: 0.9549\n",
            "  F1-Score: 0.8038\n",
            "  Support: 133.0 samples\n"
          ]
        },
        {
          "output_type": "stream",
          "name": "stderr",
          "text": [
            "/usr/local/lib/python3.12/dist-packages/sklearn/metrics/_classification.py:1565: UndefinedMetricWarning: Precision is ill-defined and being set to 0.0 in labels with no predicted samples. Use `zero_division` parameter to control this behavior.\n",
            "  _warn_prf(average, modifier, f\"{metric.capitalize()} is\", len(result))\n",
            "/usr/local/lib/python3.12/dist-packages/sklearn/metrics/_classification.py:1565: UndefinedMetricWarning: Precision is ill-defined and being set to 0.0 in labels with no predicted samples. Use `zero_division` parameter to control this behavior.\n",
            "  _warn_prf(average, modifier, f\"{metric.capitalize()} is\", len(result))\n",
            "/usr/local/lib/python3.12/dist-packages/sklearn/metrics/_classification.py:1565: UndefinedMetricWarning: Precision is ill-defined and being set to 0.0 in labels with no predicted samples. Use `zero_division` parameter to control this behavior.\n",
            "  _warn_prf(average, modifier, f\"{metric.capitalize()} is\", len(result))\n"
          ]
        }
      ]
    },
    {
      "cell_type": "markdown",
      "source": [
        "\n",
        "\n",
        "*   **Deep Learning:** For more complex patterns, consider models like Recurrent Neural Networks (RNNs), LSTMs, or pre-trained models from Hugging Face Transformers (e.g., BERT/RoBERTa).\n",
        "\n"
      ],
      "metadata": {
        "id": "dHbY9pH9hEoh"
      }
    },
    {
      "cell_type": "markdown",
      "source": [
        "\n",
        "\n",
        "*   Implement a simple LSTM (Long Short-Term Memory) Deep Learning model for contextual text analysis.\n",
        "\n"
      ],
      "metadata": {
        "id": "d6AN-zBawLxQ"
      }
    },
    {
      "cell_type": "code",
      "source": [
        "# **Improvement 7: Exploring More Advanced Models - Simple LSTM**\n",
        "# LSTMs are effective for sequence data like text, capturing contextual information.\n",
        "\n",
        "import tensorflow as tf\n",
        "from tensorflow.keras.models import Sequential\n",
        "from tensorflow.keras.layers import Embedding, LSTM, Dense, Dropout\n",
        "from tensorflow.keras.preprocessing.text import Tokenizer\n",
        "from tensorflow.keras.preprocessing.sequence import pad_sequences\n",
        "from sklearn.model_selection import train_test_split\n",
        "from sklearn.preprocessing import LabelEncoder\n",
        "from sklearn.utils import class_weight\n",
        "import numpy as np\n",
        "\n",
        "# --- 1. Deep Learning Data Preparation ---\n",
        "MAX_WORDS = 10000  # Max words in vocabulary\n",
        "MAX_LEN = 100      # Max sequence length (to pad/truncate reviews)\n",
        "\n",
        "# Assuming your columns are 'cleaned_body' and 'sentiment_categorized'\n",
        "X = df['cleaned_body'].astype(str)\n",
        "y = df['sentiment_categorized']\n",
        "\n",
        "# Encode labels (e.g., 'Negative' -> 0, 'Neutral' -> 1, 'Positive' -> 2)\n",
        "label_encoder = LabelEncoder()\n",
        "y_encoded = label_encoder.fit_transform(y)\n",
        "\n",
        "# Tokenization and Sequence Conversion\n",
        "tokenizer = Tokenizer(num_words=MAX_WORDS, oov_token=\"<OOV>\")\n",
        "tokenizer.fit_on_texts(X)\n",
        "sequences = tokenizer.texts_to_sequences(X)\n",
        "padded_sequences = pad_sequences(sequences, maxlen=MAX_LEN, padding='post', truncating='post')\n",
        "\n",
        "# Split data (Stratified split maintains class proportions)\n",
        "X_train_dl, X_test_dl, y_train_dl, y_test_dl = train_test_split(\n",
        "    padded_sequences, y_encoded, test_size=0.2, random_state=42, stratify=y_encoded\n",
        ")\n",
        "\n",
        "# Convert labels to categorical for the final layer (3 classes)\n",
        "y_train_cat = tf.keras.utils.to_categorical(y_train_dl, num_classes=3)\n",
        "y_test_cat = tf.keras.utils.to_categorical(y_test_dl, num_classes=3)\n",
        "\n",
        "# Calculate class weights for imbalanced data (Alternative to SMOTE for DL)\n",
        "weights = class_weight.compute_class_weight(\n",
        "    class_weight='balanced',\n",
        "    classes=np.unique(y_train_dl),\n",
        "    y=y_train_dl\n",
        ")\n",
        "class_weights = {i: weights[i] for i in range(len(weights))}\n",
        "\n",
        "\n",
        "# --- 2. Build the Simple LSTM Model ---\n",
        "EMBEDDING_DIM = 128\n",
        "\n",
        "model_lstm = Sequential([\n",
        "    Embedding(MAX_WORDS, EMBEDDING_DIM, input_length=MAX_LEN),\n",
        "    LSTM(64),\n",
        "    Dropout(0.5), # Regularization\n",
        "    Dense(3, activation='softmax')\n",
        "])\n",
        "\n",
        "model_lstm.compile(optimizer='adam',\n",
        "                   loss='categorical_crossentropy',\n",
        "                   metrics=['accuracy'])\n",
        "\n",
        "model_lstm.summary()\n",
        "\n",
        "# --- 3. Train the Model ---\n",
        "NUM_EPOCHS = 10\n",
        "BATCH_SIZE = 32\n",
        "\n",
        "history = model_lstm.fit(\n",
        "    X_train_dl,\n",
        "    y_train_cat,\n",
        "    epochs=NUM_EPOCHS,\n",
        "    batch_size=BATCH_SIZE,\n",
        "    validation_data=(X_test_dl, y_test_cat),\n",
        "    class_weight=class_weights, # Applying class weights\n",
        "    verbose=1\n",
        ")\n",
        "\n",
        "# --- 4. Evaluate and Save (Example) ---\n",
        "loss, accuracy = model_lstm.evaluate(X_test_dl, y_test_cat, verbose=0)\n",
        "print(f\"\\nLSTM Model Test Accuracy: {accuracy*100:.2f}%\")\n",
        "\n",
        "# To use this model in Streamlit, you must save the model and the tokenizer:\n",
        "# model_lstm.save('lstm_sentiment_model.h5')\n",
        "# import pickle\n",
        "# with open('lstm_tokenizer.pickle', 'wb') as handle:\n",
        "#     pickle.dump(tokenizer, handle, protocol=pickle.HIGHEST_PROTOCOL)"
      ],
      "metadata": {
        "colab": {
          "base_uri": "https://localhost:8080/",
          "height": 693
        },
        "id": "FesT_xtewLRc",
        "outputId": "9a710e5e-f161-40bb-9a4e-c0152b9f4aed"
      },
      "execution_count": 602,
      "outputs": [
        {
          "output_type": "stream",
          "name": "stderr",
          "text": [
            "/usr/local/lib/python3.12/dist-packages/keras/src/layers/core/embedding.py:97: UserWarning: Argument `input_length` is deprecated. Just remove it.\n",
            "  warnings.warn(\n"
          ]
        },
        {
          "output_type": "display_data",
          "data": {
            "text/plain": [
              "\u001b[1mModel: \"sequential_27\"\u001b[0m\n"
            ],
            "text/html": [
              "<pre style=\"white-space:pre;overflow-x:auto;line-height:normal;font-family:Menlo,'DejaVu Sans Mono',consolas,'Courier New',monospace\"><span style=\"font-weight: bold\">Model: \"sequential_27\"</span>\n",
              "</pre>\n"
            ]
          },
          "metadata": {}
        },
        {
          "output_type": "display_data",
          "data": {
            "text/plain": [
              "┏━━━━━━━━━━━━━━━━━━━━━━━━━━━━━━━━━┳━━━━━━━━━━━━━━━━━━━━━━━━┳━━━━━━━━━━━━━━━┓\n",
              "┃\u001b[1m \u001b[0m\u001b[1mLayer (type)                   \u001b[0m\u001b[1m \u001b[0m┃\u001b[1m \u001b[0m\u001b[1mOutput Shape          \u001b[0m\u001b[1m \u001b[0m┃\u001b[1m \u001b[0m\u001b[1m      Param #\u001b[0m\u001b[1m \u001b[0m┃\n",
              "┡━━━━━━━━━━━━━━━━━━━━━━━━━━━━━━━━━╇━━━━━━━━━━━━━━━━━━━━━━━━╇━━━━━━━━━━━━━━━┩\n",
              "│ embedding_11 (\u001b[38;5;33mEmbedding\u001b[0m)        │ ?                      │   \u001b[38;5;34m0\u001b[0m (unbuilt) │\n",
              "├─────────────────────────────────┼────────────────────────┼───────────────┤\n",
              "│ lstm_11 (\u001b[38;5;33mLSTM\u001b[0m)                  │ ?                      │   \u001b[38;5;34m0\u001b[0m (unbuilt) │\n",
              "├─────────────────────────────────┼────────────────────────┼───────────────┤\n",
              "│ dropout_43 (\u001b[38;5;33mDropout\u001b[0m)            │ ?                      │             \u001b[38;5;34m0\u001b[0m │\n",
              "├─────────────────────────────────┼────────────────────────┼───────────────┤\n",
              "│ dense_59 (\u001b[38;5;33mDense\u001b[0m)                │ ?                      │   \u001b[38;5;34m0\u001b[0m (unbuilt) │\n",
              "└─────────────────────────────────┴────────────────────────┴───────────────┘\n"
            ],
            "text/html": [
              "<pre style=\"white-space:pre;overflow-x:auto;line-height:normal;font-family:Menlo,'DejaVu Sans Mono',consolas,'Courier New',monospace\">┏━━━━━━━━━━━━━━━━━━━━━━━━━━━━━━━━━┳━━━━━━━━━━━━━━━━━━━━━━━━┳━━━━━━━━━━━━━━━┓\n",
              "┃<span style=\"font-weight: bold\"> Layer (type)                    </span>┃<span style=\"font-weight: bold\"> Output Shape           </span>┃<span style=\"font-weight: bold\">       Param # </span>┃\n",
              "┡━━━━━━━━━━━━━━━━━━━━━━━━━━━━━━━━━╇━━━━━━━━━━━━━━━━━━━━━━━━╇━━━━━━━━━━━━━━━┩\n",
              "│ embedding_11 (<span style=\"color: #0087ff; text-decoration-color: #0087ff\">Embedding</span>)        │ ?                      │   <span style=\"color: #00af00; text-decoration-color: #00af00\">0</span> (unbuilt) │\n",
              "├─────────────────────────────────┼────────────────────────┼───────────────┤\n",
              "│ lstm_11 (<span style=\"color: #0087ff; text-decoration-color: #0087ff\">LSTM</span>)                  │ ?                      │   <span style=\"color: #00af00; text-decoration-color: #00af00\">0</span> (unbuilt) │\n",
              "├─────────────────────────────────┼────────────────────────┼───────────────┤\n",
              "│ dropout_43 (<span style=\"color: #0087ff; text-decoration-color: #0087ff\">Dropout</span>)            │ ?                      │             <span style=\"color: #00af00; text-decoration-color: #00af00\">0</span> │\n",
              "├─────────────────────────────────┼────────────────────────┼───────────────┤\n",
              "│ dense_59 (<span style=\"color: #0087ff; text-decoration-color: #0087ff\">Dense</span>)                │ ?                      │   <span style=\"color: #00af00; text-decoration-color: #00af00\">0</span> (unbuilt) │\n",
              "└─────────────────────────────────┴────────────────────────┴───────────────┘\n",
              "</pre>\n"
            ]
          },
          "metadata": {}
        },
        {
          "output_type": "display_data",
          "data": {
            "text/plain": [
              "\u001b[1m Total params: \u001b[0m\u001b[38;5;34m0\u001b[0m (0.00 B)\n"
            ],
            "text/html": [
              "<pre style=\"white-space:pre;overflow-x:auto;line-height:normal;font-family:Menlo,'DejaVu Sans Mono',consolas,'Courier New',monospace\"><span style=\"font-weight: bold\"> Total params: </span><span style=\"color: #00af00; text-decoration-color: #00af00\">0</span> (0.00 B)\n",
              "</pre>\n"
            ]
          },
          "metadata": {}
        },
        {
          "output_type": "display_data",
          "data": {
            "text/plain": [
              "\u001b[1m Trainable params: \u001b[0m\u001b[38;5;34m0\u001b[0m (0.00 B)\n"
            ],
            "text/html": [
              "<pre style=\"white-space:pre;overflow-x:auto;line-height:normal;font-family:Menlo,'DejaVu Sans Mono',consolas,'Courier New',monospace\"><span style=\"font-weight: bold\"> Trainable params: </span><span style=\"color: #00af00; text-decoration-color: #00af00\">0</span> (0.00 B)\n",
              "</pre>\n"
            ]
          },
          "metadata": {}
        },
        {
          "output_type": "display_data",
          "data": {
            "text/plain": [
              "\u001b[1m Non-trainable params: \u001b[0m\u001b[38;5;34m0\u001b[0m (0.00 B)\n"
            ],
            "text/html": [
              "<pre style=\"white-space:pre;overflow-x:auto;line-height:normal;font-family:Menlo,'DejaVu Sans Mono',consolas,'Courier New',monospace\"><span style=\"font-weight: bold\"> Non-trainable params: </span><span style=\"color: #00af00; text-decoration-color: #00af00\">0</span> (0.00 B)\n",
              "</pre>\n"
            ]
          },
          "metadata": {}
        },
        {
          "output_type": "stream",
          "name": "stdout",
          "text": [
            "Epoch 1/10\n",
            "\u001b[1m36/36\u001b[0m \u001b[32m━━━━━━━━━━━━━━━━━━━━\u001b[0m\u001b[37m\u001b[0m \u001b[1m7s\u001b[0m 115ms/step - accuracy: 0.2936 - loss: 1.1102 - val_accuracy: 0.5035 - val_loss: 1.0875\n",
            "Epoch 2/10\n",
            "\u001b[1m36/36\u001b[0m \u001b[32m━━━━━━━━━━━━━━━━━━━━\u001b[0m\u001b[37m\u001b[0m \u001b[1m3s\u001b[0m 87ms/step - accuracy: 0.4063 - loss: 1.0935 - val_accuracy: 0.4965 - val_loss: 1.0881\n",
            "Epoch 3/10\n",
            "\u001b[1m36/36\u001b[0m \u001b[32m━━━━━━━━━━━━━━━━━━━━\u001b[0m\u001b[37m\u001b[0m \u001b[1m3s\u001b[0m 80ms/step - accuracy: 0.4423 - loss: 1.1042 - val_accuracy: 0.4861 - val_loss: 1.0850\n",
            "Epoch 4/10\n",
            "\u001b[1m36/36\u001b[0m \u001b[32m━━━━━━━━━━━━━━━━━━━━\u001b[0m\u001b[37m\u001b[0m \u001b[1m3s\u001b[0m 70ms/step - accuracy: 0.4665 - loss: 1.0650 - val_accuracy: 0.1493 - val_loss: 1.1197\n",
            "Epoch 5/10\n",
            "\u001b[1m36/36\u001b[0m \u001b[32m━━━━━━━━━━━━━━━━━━━━\u001b[0m\u001b[37m\u001b[0m \u001b[1m3s\u001b[0m 77ms/step - accuracy: 0.3338 - loss: 1.0716 - val_accuracy: 0.1597 - val_loss: 1.1128\n",
            "Epoch 6/10\n",
            "\u001b[1m36/36\u001b[0m \u001b[32m━━━━━━━━━━━━━━━━━━━━\u001b[0m\u001b[37m\u001b[0m \u001b[1m4s\u001b[0m 120ms/step - accuracy: 0.4203 - loss: 1.0483 - val_accuracy: 0.3750 - val_loss: 1.1048\n",
            "Epoch 7/10\n",
            "\u001b[1m36/36\u001b[0m \u001b[32m━━━━━━━━━━━━━━━━━━━━\u001b[0m\u001b[37m\u001b[0m \u001b[1m3s\u001b[0m 77ms/step - accuracy: 0.4397 - loss: 1.0517 - val_accuracy: 0.3750 - val_loss: 1.0757\n",
            "Epoch 8/10\n",
            "\u001b[1m36/36\u001b[0m \u001b[32m━━━━━━━━━━━━━━━━━━━━\u001b[0m\u001b[37m\u001b[0m \u001b[1m3s\u001b[0m 70ms/step - accuracy: 0.4543 - loss: 1.0390 - val_accuracy: 0.4896 - val_loss: 1.0756\n",
            "Epoch 9/10\n",
            "\u001b[1m36/36\u001b[0m \u001b[32m━━━━━━━━━━━━━━━━━━━━\u001b[0m\u001b[37m\u001b[0m \u001b[1m3s\u001b[0m 70ms/step - accuracy: 0.5425 - loss: 0.9782 - val_accuracy: 0.3542 - val_loss: 1.2182\n",
            "Epoch 10/10\n",
            "\u001b[1m36/36\u001b[0m \u001b[32m━━━━━━━━━━━━━━━━━━━━\u001b[0m\u001b[37m\u001b[0m \u001b[1m3s\u001b[0m 78ms/step - accuracy: 0.5922 - loss: 0.9374 - val_accuracy: 0.4931 - val_loss: 1.0652\n",
            "\n",
            "LSTM Model Test Accuracy: 49.31%\n"
          ]
        }
      ]
    },
    {
      "cell_type": "code",
      "source": [
        "# Assuming the trained LSTM model is named 'model_lstm'\n",
        "import os\n",
        "import pickle\n",
        "\n",
        "# Define the exact path where Streamlit expects the file\n",
        "MODEL_PATH = '/content/drive/MyDrive/Colab Notebooks/lstm_sentiment_model.h5'\n",
        "TOKENIZER_PATH = '/content/drive/MyDrive/Colab Notebooks/lstm_tokenizer.pickle'\n",
        "\n",
        "# Ensure the directory exists (optional, but good practice)\n",
        "os.makedirs(os.path.dirname(MODEL_PATH), exist_ok=True)\n",
        "\n",
        "print(\"Saving LSTM Model...\")\n",
        "try:\n",
        "    # Use the Keras/TensorFlow save method for .h5 files\n",
        "    model_lstm.save(MODEL_PATH)\n",
        "    print(f\"LSTM Model successfully saved to: {MODEL_PATH}\")\n",
        "except Exception as e:\n",
        "    print(f\"Error saving LSTM model: {e}\")\n",
        "\n",
        "print(\"Saving Tokenizer...\")\n",
        "try:\n",
        "    with open(TOKENIZER_PATH, 'wb') as handle:\n",
        "        pickle.dump(tokenizer, handle, protocol=pickle.HIGHEST_PROTOCOL)\n",
        "    print(f\"Tokenizer successfully saved to: {TOKENIZER_PATH}\")\n",
        "except Exception as e:\n",
        "    print(f\"Error saving tokenizer: {e}\")"
      ],
      "metadata": {
        "colab": {
          "base_uri": "https://localhost:8080/"
        },
        "id": "qPeVMjx4WBt1",
        "outputId": "4bbd77f5-bd80-40e1-939f-c8790d143a58"
      },
      "execution_count": 603,
      "outputs": [
        {
          "output_type": "stream",
          "name": "stderr",
          "text": [
            "WARNING:absl:You are saving your model as an HDF5 file via `model.save()` or `keras.saving.save_model(model)`. This file format is considered legacy. We recommend using instead the native Keras format, e.g. `model.save('my_model.keras')` or `keras.saving.save_model(model, 'my_model.keras')`. \n"
          ]
        },
        {
          "output_type": "stream",
          "name": "stdout",
          "text": [
            "Saving LSTM Model...\n",
            "LSTM Model successfully saved to: /content/drive/MyDrive/Colab Notebooks/lstm_sentiment_model.h5\n",
            "Saving Tokenizer...\n",
            "Tokenizer successfully saved to: /content/drive/MyDrive/Colab Notebooks/lstm_tokenizer.pickle\n"
          ]
        }
      ]
    },
    {
      "cell_type": "markdown",
      "metadata": {
        "id": "cbd67683"
      },
      "source": [
        "Convert the TF-IDF matrix to a format suitable for deep learning models (e.g., dense arrays).\n"
      ]
    },
    {
      "cell_type": "markdown",
      "metadata": {
        "id": "89bc0c60"
      },
      "source": [
        "\n",
        "\n",
        "*   Convert the sparse TF-IDF matrix and the target variable to dense NumPy arrays for deep learning models and display their shapes.\n",
        "\n",
        "\n",
        "\n"
      ]
    },
    {
      "cell_type": "code",
      "metadata": {
        "colab": {
          "base_uri": "https://localhost:8080/"
        },
        "id": "abe50048",
        "outputId": "976cf17a-7435-40c6-b60c-d2a2af8bd497"
      },
      "source": [
        "import numpy as np\n",
        "\n",
        "X_dense = tfidf_matrix.todense()\n",
        "y_dense = np.array(y)\n",
        "\n",
        "print(\"Dense TF-IDF matrix shape:\", X_dense.shape)\n",
        "print(\"Target variable shape:\", y_dense.shape)"
      ],
      "execution_count": 604,
      "outputs": [
        {
          "output_type": "stream",
          "name": "stdout",
          "text": [
            "Dense TF-IDF matrix shape: (1440, 5000)\n",
            "Target variable shape: (1440,)\n"
          ]
        }
      ]
    },
    {
      "cell_type": "markdown",
      "metadata": {
        "id": "2aece981"
      },
      "source": [
        "Build a simple neural network model using a library like Keras or PyTorch.\n"
      ]
    },
    {
      "cell_type": "markdown",
      "metadata": {
        "id": "a16d4397"
      },
      "source": [
        "\n",
        "\n",
        "*   Define and compile a simple neural network model using Keras for multi-class classification.\n",
        "\n",
        "\n",
        "\n",
        "\n"
      ]
    },
    {
      "cell_type": "code",
      "metadata": {
        "colab": {
          "base_uri": "https://localhost:8080/",
          "height": 344
        },
        "id": "6641f7f9",
        "outputId": "6c0cc532-5d60-4f43-985b-d94e771a071d"
      },
      "source": [
        "from tensorflow.keras.models import Sequential\n",
        "from tensorflow.keras.layers import Dense, Dropout\n",
        "from tensorflow.keras.utils import to_categorical\n",
        "\n",
        "# Convert target variable to categorical\n",
        "y_categorical = to_categorical(y_dense)\n",
        "\n",
        "# Split the data again for the neural network\n",
        "from sklearn.model_selection import train_test_split\n",
        "X_train_nn, X_test_nn, y_train_nn, y_test_nn = train_test_split(X_dense, y_categorical, test_size=0.2, random_state=42)\n",
        "\n",
        "# Define the model\n",
        "model = Sequential()\n",
        "model.add(Dense(128, activation='relu', input_shape=(X_train_nn.shape[1],)))\n",
        "model.add(Dropout(0.5))\n",
        "model.add(Dense(64, activation='relu'))\n",
        "model.add(Dropout(0.5))\n",
        "model.add(Dense(3, activation='softmax')) # 3 units for 3 sentiment categories\n",
        "\n",
        "# Compile the model\n",
        "model.compile(optimizer='adam',\n",
        "              loss='categorical_crossentropy',\n",
        "              metrics=['accuracy'])\n",
        "\n",
        "model.summary()"
      ],
      "execution_count": 605,
      "outputs": [
        {
          "output_type": "stream",
          "name": "stderr",
          "text": [
            "/usr/local/lib/python3.12/dist-packages/keras/src/layers/core/dense.py:93: UserWarning: Do not pass an `input_shape`/`input_dim` argument to a layer. When using Sequential models, prefer using an `Input(shape)` object as the first layer in the model instead.\n",
            "  super().__init__(activity_regularizer=activity_regularizer, **kwargs)\n"
          ]
        },
        {
          "output_type": "display_data",
          "data": {
            "text/plain": [
              "\u001b[1mModel: \"sequential_28\"\u001b[0m\n"
            ],
            "text/html": [
              "<pre style=\"white-space:pre;overflow-x:auto;line-height:normal;font-family:Menlo,'DejaVu Sans Mono',consolas,'Courier New',monospace\"><span style=\"font-weight: bold\">Model: \"sequential_28\"</span>\n",
              "</pre>\n"
            ]
          },
          "metadata": {}
        },
        {
          "output_type": "display_data",
          "data": {
            "text/plain": [
              "┏━━━━━━━━━━━━━━━━━━━━━━━━━━━━━━━━━┳━━━━━━━━━━━━━━━━━━━━━━━━┳━━━━━━━━━━━━━━━┓\n",
              "┃\u001b[1m \u001b[0m\u001b[1mLayer (type)                   \u001b[0m\u001b[1m \u001b[0m┃\u001b[1m \u001b[0m\u001b[1mOutput Shape          \u001b[0m\u001b[1m \u001b[0m┃\u001b[1m \u001b[0m\u001b[1m      Param #\u001b[0m\u001b[1m \u001b[0m┃\n",
              "┡━━━━━━━━━━━━━━━━━━━━━━━━━━━━━━━━━╇━━━━━━━━━━━━━━━━━━━━━━━━╇━━━━━━━━━━━━━━━┩\n",
              "│ dense_60 (\u001b[38;5;33mDense\u001b[0m)                │ (\u001b[38;5;45mNone\u001b[0m, \u001b[38;5;34m128\u001b[0m)            │       \u001b[38;5;34m640,128\u001b[0m │\n",
              "├─────────────────────────────────┼────────────────────────┼───────────────┤\n",
              "│ dropout_44 (\u001b[38;5;33mDropout\u001b[0m)            │ (\u001b[38;5;45mNone\u001b[0m, \u001b[38;5;34m128\u001b[0m)            │             \u001b[38;5;34m0\u001b[0m │\n",
              "├─────────────────────────────────┼────────────────────────┼───────────────┤\n",
              "│ dense_61 (\u001b[38;5;33mDense\u001b[0m)                │ (\u001b[38;5;45mNone\u001b[0m, \u001b[38;5;34m64\u001b[0m)             │         \u001b[38;5;34m8,256\u001b[0m │\n",
              "├─────────────────────────────────┼────────────────────────┼───────────────┤\n",
              "│ dropout_45 (\u001b[38;5;33mDropout\u001b[0m)            │ (\u001b[38;5;45mNone\u001b[0m, \u001b[38;5;34m64\u001b[0m)             │             \u001b[38;5;34m0\u001b[0m │\n",
              "├─────────────────────────────────┼────────────────────────┼───────────────┤\n",
              "│ dense_62 (\u001b[38;5;33mDense\u001b[0m)                │ (\u001b[38;5;45mNone\u001b[0m, \u001b[38;5;34m3\u001b[0m)              │           \u001b[38;5;34m195\u001b[0m │\n",
              "└─────────────────────────────────┴────────────────────────┴───────────────┘\n"
            ],
            "text/html": [
              "<pre style=\"white-space:pre;overflow-x:auto;line-height:normal;font-family:Menlo,'DejaVu Sans Mono',consolas,'Courier New',monospace\">┏━━━━━━━━━━━━━━━━━━━━━━━━━━━━━━━━━┳━━━━━━━━━━━━━━━━━━━━━━━━┳━━━━━━━━━━━━━━━┓\n",
              "┃<span style=\"font-weight: bold\"> Layer (type)                    </span>┃<span style=\"font-weight: bold\"> Output Shape           </span>┃<span style=\"font-weight: bold\">       Param # </span>┃\n",
              "┡━━━━━━━━━━━━━━━━━━━━━━━━━━━━━━━━━╇━━━━━━━━━━━━━━━━━━━━━━━━╇━━━━━━━━━━━━━━━┩\n",
              "│ dense_60 (<span style=\"color: #0087ff; text-decoration-color: #0087ff\">Dense</span>)                │ (<span style=\"color: #00d7ff; text-decoration-color: #00d7ff\">None</span>, <span style=\"color: #00af00; text-decoration-color: #00af00\">128</span>)            │       <span style=\"color: #00af00; text-decoration-color: #00af00\">640,128</span> │\n",
              "├─────────────────────────────────┼────────────────────────┼───────────────┤\n",
              "│ dropout_44 (<span style=\"color: #0087ff; text-decoration-color: #0087ff\">Dropout</span>)            │ (<span style=\"color: #00d7ff; text-decoration-color: #00d7ff\">None</span>, <span style=\"color: #00af00; text-decoration-color: #00af00\">128</span>)            │             <span style=\"color: #00af00; text-decoration-color: #00af00\">0</span> │\n",
              "├─────────────────────────────────┼────────────────────────┼───────────────┤\n",
              "│ dense_61 (<span style=\"color: #0087ff; text-decoration-color: #0087ff\">Dense</span>)                │ (<span style=\"color: #00d7ff; text-decoration-color: #00d7ff\">None</span>, <span style=\"color: #00af00; text-decoration-color: #00af00\">64</span>)             │         <span style=\"color: #00af00; text-decoration-color: #00af00\">8,256</span> │\n",
              "├─────────────────────────────────┼────────────────────────┼───────────────┤\n",
              "│ dropout_45 (<span style=\"color: #0087ff; text-decoration-color: #0087ff\">Dropout</span>)            │ (<span style=\"color: #00d7ff; text-decoration-color: #00d7ff\">None</span>, <span style=\"color: #00af00; text-decoration-color: #00af00\">64</span>)             │             <span style=\"color: #00af00; text-decoration-color: #00af00\">0</span> │\n",
              "├─────────────────────────────────┼────────────────────────┼───────────────┤\n",
              "│ dense_62 (<span style=\"color: #0087ff; text-decoration-color: #0087ff\">Dense</span>)                │ (<span style=\"color: #00d7ff; text-decoration-color: #00d7ff\">None</span>, <span style=\"color: #00af00; text-decoration-color: #00af00\">3</span>)              │           <span style=\"color: #00af00; text-decoration-color: #00af00\">195</span> │\n",
              "└─────────────────────────────────┴────────────────────────┴───────────────┘\n",
              "</pre>\n"
            ]
          },
          "metadata": {}
        },
        {
          "output_type": "display_data",
          "data": {
            "text/plain": [
              "\u001b[1m Total params: \u001b[0m\u001b[38;5;34m648,579\u001b[0m (2.47 MB)\n"
            ],
            "text/html": [
              "<pre style=\"white-space:pre;overflow-x:auto;line-height:normal;font-family:Menlo,'DejaVu Sans Mono',consolas,'Courier New',monospace\"><span style=\"font-weight: bold\"> Total params: </span><span style=\"color: #00af00; text-decoration-color: #00af00\">648,579</span> (2.47 MB)\n",
              "</pre>\n"
            ]
          },
          "metadata": {}
        },
        {
          "output_type": "display_data",
          "data": {
            "text/plain": [
              "\u001b[1m Trainable params: \u001b[0m\u001b[38;5;34m648,579\u001b[0m (2.47 MB)\n"
            ],
            "text/html": [
              "<pre style=\"white-space:pre;overflow-x:auto;line-height:normal;font-family:Menlo,'DejaVu Sans Mono',consolas,'Courier New',monospace\"><span style=\"font-weight: bold\"> Trainable params: </span><span style=\"color: #00af00; text-decoration-color: #00af00\">648,579</span> (2.47 MB)\n",
              "</pre>\n"
            ]
          },
          "metadata": {}
        },
        {
          "output_type": "display_data",
          "data": {
            "text/plain": [
              "\u001b[1m Non-trainable params: \u001b[0m\u001b[38;5;34m0\u001b[0m (0.00 B)\n"
            ],
            "text/html": [
              "<pre style=\"white-space:pre;overflow-x:auto;line-height:normal;font-family:Menlo,'DejaVu Sans Mono',consolas,'Courier New',monospace\"><span style=\"font-weight: bold\"> Non-trainable params: </span><span style=\"color: #00af00; text-decoration-color: #00af00\">0</span> (0.00 B)\n",
              "</pre>\n"
            ]
          },
          "metadata": {}
        }
      ]
    },
    {
      "cell_type": "markdown",
      "metadata": {
        "id": "886ca745"
      },
      "source": [
        "\n",
        "\n",
        "*   The model has been defined and compiled. The next step is to train the model on the prepared data.\n",
        "\n",
        "\n",
        "\n"
      ]
    },
    {
      "cell_type": "code",
      "metadata": {
        "colab": {
          "base_uri": "https://localhost:8080/"
        },
        "id": "KCUc043chhgn",
        "outputId": "24090680-a1d7-46b5-8c77-d4054026dd1a"
      },
      "source": [
        "# Train the model\n",
        "history = model.fit(X_train_nn, y_train_nn,\n",
        "                    epochs=10, # You can adjust the number of epochs\n",
        "                    batch_size=32, # You can adjust the batch size\n",
        "                    validation_split=0.2) # Use a validation split to monitor performance"
      ],
      "execution_count": 606,
      "outputs": [
        {
          "output_type": "stream",
          "name": "stdout",
          "text": [
            "Epoch 1/10\n",
            "\u001b[1m29/29\u001b[0m \u001b[32m━━━━━━━━━━━━━━━━━━━━\u001b[0m\u001b[37m\u001b[0m \u001b[1m3s\u001b[0m 30ms/step - accuracy: 0.4054 - loss: 1.0819 - val_accuracy: 0.4892 - val_loss: 1.0025\n",
            "Epoch 2/10\n",
            "\u001b[1m29/29\u001b[0m \u001b[32m━━━━━━━━━━━━━━━━━━━━\u001b[0m\u001b[37m\u001b[0m \u001b[1m0s\u001b[0m 16ms/step - accuracy: 0.5486 - loss: 0.9543 - val_accuracy: 0.5368 - val_loss: 0.8903\n",
            "Epoch 3/10\n",
            "\u001b[1m29/29\u001b[0m \u001b[32m━━━━━━━━━━━━━━━━━━━━\u001b[0m\u001b[37m\u001b[0m \u001b[1m0s\u001b[0m 14ms/step - accuracy: 0.6645 - loss: 0.8383 - val_accuracy: 0.7229 - val_loss: 0.7472\n",
            "Epoch 4/10\n",
            "\u001b[1m29/29\u001b[0m \u001b[32m━━━━━━━━━━━━━━━━━━━━\u001b[0m\u001b[37m\u001b[0m \u001b[1m0s\u001b[0m 14ms/step - accuracy: 0.8017 - loss: 0.6433 - val_accuracy: 0.7749 - val_loss: 0.6409\n",
            "Epoch 5/10\n",
            "\u001b[1m29/29\u001b[0m \u001b[32m━━━━━━━━━━━━━━━━━━━━\u001b[0m\u001b[37m\u001b[0m \u001b[1m1s\u001b[0m 14ms/step - accuracy: 0.8459 - loss: 0.4534 - val_accuracy: 0.7706 - val_loss: 0.6003\n",
            "Epoch 6/10\n",
            "\u001b[1m29/29\u001b[0m \u001b[32m━━━━━━━━━━━━━━━━━━━━\u001b[0m\u001b[37m\u001b[0m \u001b[1m0s\u001b[0m 15ms/step - accuracy: 0.8479 - loss: 0.3644 - val_accuracy: 0.7662 - val_loss: 0.6117\n",
            "Epoch 7/10\n",
            "\u001b[1m29/29\u001b[0m \u001b[32m━━━━━━━━━━━━━━━━━━━━\u001b[0m\u001b[37m\u001b[0m \u001b[1m0s\u001b[0m 14ms/step - accuracy: 0.9140 - loss: 0.2504 - val_accuracy: 0.7619 - val_loss: 0.5990\n",
            "Epoch 8/10\n",
            "\u001b[1m29/29\u001b[0m \u001b[32m━━━━━━━━━━━━━━━━━━━━\u001b[0m\u001b[37m\u001b[0m \u001b[1m0s\u001b[0m 15ms/step - accuracy: 0.9496 - loss: 0.1803 - val_accuracy: 0.7749 - val_loss: 0.6358\n",
            "Epoch 9/10\n",
            "\u001b[1m29/29\u001b[0m \u001b[32m━━━━━━━━━━━━━━━━━━━━\u001b[0m\u001b[37m\u001b[0m \u001b[1m0s\u001b[0m 15ms/step - accuracy: 0.9810 - loss: 0.1193 - val_accuracy: 0.7532 - val_loss: 0.7044\n",
            "Epoch 10/10\n",
            "\u001b[1m29/29\u001b[0m \u001b[32m━━━━━━━━━━━━━━━━━━━━\u001b[0m\u001b[37m\u001b[0m \u001b[1m0s\u001b[0m 15ms/step - accuracy: 0.9825 - loss: 0.0883 - val_accuracy: 0.7359 - val_loss: 0.7240\n"
          ]
        }
      ]
    },
    {
      "cell_type": "markdown",
      "metadata": {
        "id": "76f853d3"
      },
      "source": [
        "\n",
        "\n",
        "*   Evaluate the trained neural network model on the test set to assess its performance.\n",
        "\n",
        "\n",
        "\n"
      ]
    },
    {
      "cell_type": "code",
      "metadata": {
        "colab": {
          "base_uri": "https://localhost:8080/"
        },
        "id": "6b99c32b",
        "outputId": "2954e886-5530-40a0-c412-43391ba793e5"
      },
      "source": [
        "# Evaluate the model on the test set\n",
        "loss, accuracy = model.evaluate(X_test_nn, y_test_nn, verbose=0)\n",
        "\n",
        "print(f\"Test Loss: {loss:.4f}\")\n",
        "print(f\"Test Accuracy: {accuracy:.4f}\")\n",
        "\n",
        "# Get predictions\n",
        "y_pred_nn = model.predict(X_test_nn)\n",
        "y_pred_classes_nn = np.argmax(y_pred_nn, axis=1)\n",
        "y_true_classes_nn = np.argmax(y_test_nn, axis=1)\n",
        "\n",
        "# Print classification report\n",
        "print(\"Classification Report (Neural Network):\\n\", classification_report(y_true_classes_nn, y_pred_classes_nn))"
      ],
      "execution_count": 607,
      "outputs": [
        {
          "output_type": "stream",
          "name": "stdout",
          "text": [
            "Test Loss: 0.8162\n",
            "Test Accuracy: 0.7188\n",
            "\u001b[1m9/9\u001b[0m \u001b[32m━━━━━━━━━━━━━━━━━━━━\u001b[0m\u001b[37m\u001b[0m \u001b[1m0s\u001b[0m 5ms/step \n",
            "Classification Report (Neural Network):\n",
            "               precision    recall  f1-score   support\n",
            "\n",
            "           0       0.79      0.80      0.79       111\n",
            "           1       0.72      0.84      0.78       133\n",
            "           2       0.30      0.14      0.19        44\n",
            "\n",
            "    accuracy                           0.72       288\n",
            "   macro avg       0.60      0.59      0.59       288\n",
            "weighted avg       0.68      0.72      0.69       288\n",
            "\n"
          ]
        }
      ]
    },
    {
      "cell_type": "markdown",
      "metadata": {
        "id": "10fd0877"
      },
      "source": [
        "## Summary:\n",
        "\n",
        "### Data Analysis Key Findings\n",
        "* The sparse TF-IDF matrix was successfully converted to a dense NumPy array with a shape of (1440, 5000).\n",
        "* The target variable was converted to a NumPy array with a shape of (1440,).\n",
        "* A Keras Sequential model was built, compiled, and trained for multi-class sentiment classification.\n",
        "* The trained neural network model achieved a test accuracy of approximately 71.88%.\n",
        "* The classification report for the neural network showed varying performance across the sentiment classes, with lower performance for class 2.\n",
        "\n",
        "### Insights or Next Steps\n",
        "* The neural network model shows signs of overfitting based on the difference between training and validation accuracy; consider implementing more robust regularization techniques or using a larger dataset.\n",
        "* Further investigation into the performance disparity across sentiment classes is needed to understand why class 2 has significantly lower precision and recall.\n"
      ]
    },
    {
      "cell_type": "markdown",
      "source": [
        "# 3. Deployment (Acceptance Criterion)"
      ],
      "metadata": {
        "id": "PrbyFYjvkc6N"
      }
    },
    {
      "cell_type": "markdown",
      "source": [
        "To make your results accessible and interactive, you need to deploy the trained model in a web application."
      ],
      "metadata": {
        "id": "2eUQpv8skiMs"
      }
    },
    {
      "cell_type": "markdown",
      "source": [
        "\n",
        "\n",
        "*   **Pros:** Requires only Python knowledge, excellent for data science/ML projects, fast to prototype, and handles UI components (text input, buttons, plots) easily.\n",
        "\n"
      ],
      "metadata": {
        "id": "1Vok33GJk0mn"
      }
    },
    {
      "cell_type": "markdown",
      "source": [
        "\n",
        "\n",
        "*   **Process:**\n",
        "\n"
      ],
      "metadata": {
        "id": "y3_z8KR3lCSb"
      }
    },
    {
      "cell_type": "markdown",
      "source": [
        "\n",
        "\n",
        "1.   Save your trained model (e.g., using pickle or joblib).\n",
        "\n"
      ],
      "metadata": {
        "id": "irC5kfCMlJtz"
      }
    },
    {
      "cell_type": "code",
      "metadata": {
        "colab": {
          "base_uri": "https://localhost:8080/"
        },
        "id": "6e731021",
        "outputId": "0d48ef14-d765-441f-df99-4f427f1d4985"
      },
      "source": [
        "import pickle\n",
        "import os\n",
        "\n",
        "# Define the exact path where Streamlit expects the file\n",
        "VECTORIZER_PATH = '/content/drive/MyDrive/Colab Notebooks/tfidf_vectorizer.pkl'\n",
        "\n",
        "# Ensure the directory exists (optional, but good practice)\n",
        "os.makedirs(os.path.dirname(VECTORIZER_PATH), exist_ok=True)\n",
        "\n",
        "# Save the TF-IDF vectorizer\n",
        "print(\"Saving TF-IDF Vectorizer...\")\n",
        "try:\n",
        "    with open(VECTORIZER_PATH, 'wb') as f:\n",
        "        pickle.dump(tfidf_vectorizer, f)\n",
        "    print(f\"TF-IDF vectorizer successfully saved to: {VECTORIZER_PATH}\")\n",
        "except Exception as e:\n",
        "    print(f\"Error saving vectorizer: {e}\")"
      ],
      "execution_count": 608,
      "outputs": [
        {
          "output_type": "stream",
          "name": "stdout",
          "text": [
            "Saving TF-IDF Vectorizer...\n",
            "TF-IDF vectorizer successfully saved to: /content/drive/MyDrive/Colab Notebooks/tfidf_vectorizer.pkl\n"
          ]
        }
      ]
    },
    {
      "cell_type": "code",
      "metadata": {
        "colab": {
          "base_uri": "https://localhost:8080/"
        },
        "id": "d07251cd",
        "outputId": "71dc437f-199a-43da-9491-922c8fef5950"
      },
      "source": [
        "import os\n",
        "\n",
        "# Define the exact path where Streamlit expects the file\n",
        "MODEL_PATH = '/content/drive/MyDrive/Colab Notebooks/sentiment_model.h5'\n",
        "\n",
        "# Ensure the directory exists (optional, but good practice)\n",
        "os.makedirs(os.path.dirname(MODEL_PATH), exist_ok=True)\n",
        "\n",
        "# Save the Keras model\n",
        "print(\"Saving Neural Network Model...\")\n",
        "try:\n",
        "    model.save(MODEL_PATH)\n",
        "    print(f\"Neural network model successfully saved to: {MODEL_PATH}\")\n",
        "except Exception as e:\n",
        "    print(f\"Error saving neural network model: {e}\")"
      ],
      "execution_count": 609,
      "outputs": [
        {
          "output_type": "stream",
          "name": "stderr",
          "text": [
            "WARNING:absl:You are saving your model as an HDF5 file via `model.save()` or `keras.saving.save_model(model)`. This file format is considered legacy. We recommend using instead the native Keras format, e.g. `model.save('my_model.keras')` or `keras.saving.save_model(model, 'my_model.keras')`. \n"
          ]
        },
        {
          "output_type": "stream",
          "name": "stdout",
          "text": [
            "Saving Neural Network Model...\n",
            "Neural network model successfully saved to: /content/drive/MyDrive/Colab Notebooks/sentiment_model.h5\n"
          ]
        }
      ]
    },
    {
      "cell_type": "markdown",
      "source": [
        "\n",
        "\n",
        "\n",
        "2.   Create a Streamlit Python script (app.py) that loads the model, accepts user input (a new review), preprocesses the text, runs the prediction, and displays the sentiment result.\n",
        "\n"
      ],
      "metadata": {
        "id": "DLyRB75Tgmyl"
      }
    },
    {
      "cell_type": "code",
      "metadata": {
        "colab": {
          "base_uri": "https://localhost:8080/"
        },
        "id": "f1082345",
        "outputId": "f693925a-6b24-4250-b67b-b7e957f91c6f"
      },
      "source": [
        "%%writefile app.py\n",
        "# **Improvement 8: Streamlit UI Enhancement**\n",
        "import streamlit as st\n",
        "import pandas as pd\n",
        "import altair as alt # For visualization\n",
        "import pickle\n",
        "import tensorflow as tf\n",
        "from tensorflow.keras.models import load_model\n",
        "from tensorflow.keras.preprocessing.sequence import pad_sequences # Keep in case needed for other models later, or remove if only using TF-IDF\n",
        "import os # Import os module\n",
        "import re # Import re for cleaning function\n",
        "\n",
        "# --- Define the correct paths to the saved files in Google Drive ---\n",
        "VECTORIZER_PATH = '/content/drive/MyDrive/Colab Notebooks/tfidf_vectorizer.pkl'\n",
        "MODEL_PATH = '/content/drive/MyDrive/Colab Notebooks/sentiment_model.h5'\n",
        "# Removed TOKENIZER_PATH as we are focusing on the TF-IDF + Keras model\n",
        "\n",
        "# --- Load the saved model and vectorizer ---\n",
        "vectorizer = None\n",
        "model = None\n",
        "# Removed tokenizer loading\n",
        "\n",
        "st.write(\"Attempting to load files from Google Drive...\")\n",
        "\n",
        "if not os.path.exists('/content/drive/MyDrive/Colab Notebooks/'):\n",
        "    st.error(\"Error: Google Drive not mounted or the 'Colab Notebooks' folder does not exist.\")\n",
        "else:\n",
        "    try:\n",
        "        with open(VECTORIZER_PATH, 'rb') as f:\n",
        "            vectorizer = pickle.load(f)\n",
        "        st.success(f\"TF-IDF vectorizer loaded successfully from: {VECTORIZER_PATH}\")\n",
        "    except FileNotFoundError:\n",
        "        st.error(f\"Error: TF-IDF vectorizer not found at {VECTORIZER_PATH}. Please ensure the file exists.\")\n",
        "    except Exception as e:\n",
        "        st.error(f\"Error loading TF-IDF vectorizer from {VECTORIZER_PATH}: {e}\")\n",
        "\n",
        "    try:\n",
        "        # Custom objects might be needed if you used custom layers/functions\n",
        "        model = load_model(MODEL_PATH)\n",
        "        st.success(f\"Neural network model loaded successfully from: {MODEL_PATH}\")\n",
        "    except FileNotFoundError:\n",
        "        st.error(f\"Error: Neural network model not found at {MODEL_PATH}. Please ensure the file exists.\")\n",
        "    except Exception as e:\n",
        "         st.error(f\"Error loading Keras model from {MODEL_PATH}: {e}\")\n",
        "\n",
        "# Define your label map\n",
        "LABEL_MAP = {0: 'Negative', 1: 'Neutral', 2: 'Positive'}\n",
        "\n",
        "# Define text cleaning function (should match the one used during training)\n",
        "def clean_text(text):\n",
        "    if pd.isnull(text) or not isinstance(text, str):\n",
        "        return \"\"\n",
        "    try:\n",
        "        text = re.sub(r'<.*?>', '', text)\n",
        "        text = re.sub(r'[^a-zA-Z0-9\\s]', '', text)\n",
        "        text = re.sub(r'\\s+', ' ', text).strip()\n",
        "        return text\n",
        "    except Exception as e:\n",
        "        return \"\"\n",
        "\n",
        "# Define padding length (not strictly needed for TF-IDF, but keep if you switch models)\n",
        "# MAX_LEN = 100 # Or whatever MAX_LEN you used for padding\n",
        "\n",
        "# --- Enhanced UI/UX and Prediction Logic ---\n",
        "\n",
        "st.title(\"Sentiment Analysis Project Demo 📊\")\n",
        "st.markdown(\"Enter a customer review (text) below to instantly classify its sentiment (Negative, Neutral, or Positive).\")\n",
        "st.markdown(\"---\")\n",
        "\n",
        "user_input = st.text_area(\"Enter review here:\", \"\")\n",
        "\n",
        "# Proceed only if there is input and the required models are loaded\n",
        "if user_input and vectorizer is not None and model is not None:\n",
        "\n",
        "    # 1. Prediction and Error Handling (Improvement 2: Streamlit Error Handling)\n",
        "    try:\n",
        "        # Preprocess the input text\n",
        "        cleaned_input = clean_text(user_input)\n",
        "\n",
        "        # Use TF-IDF for feature extraction\n",
        "        input_vector = vectorizer.transform([cleaned_input]).todense() # Convert to dense for Keras model\n",
        "\n",
        "        # Get prediction probabilities from the Keras model\n",
        "        prediction_proba = model.predict(input_vector)[0]\n",
        "\n",
        "\n",
        "        if prediction_proba is not None:\n",
        "            # 2. Determine the predicted class\n",
        "            predicted_class_index = prediction_proba.argmax()\n",
        "            predicted_sentiment = LABEL_MAP[predicted_class_index]\n",
        "\n",
        "            # 3. Display the primary prediction with clear formatting\n",
        "            st.subheader(\"Analysis Result\")\n",
        "            if predicted_sentiment == 'Positive':\n",
        "                st.success(f\"**Predicted Sentiment:** {predicted_sentiment} 🎉 (Confidence: {prediction_proba.max():.2%})\")\n",
        "            elif predicted_sentiment == 'Negative':\n",
        "                st.error(f\"**Predicted Sentiment:** {predicted_sentiment} 😔 (Confidence: {prediction_proba.max():.2%})\")\n",
        "            else:\n",
        "                st.warning(f\"**Predicted Sentiment:** {predicted_sentiment} 🤔 (Confidence: {prediction_proba.max():.2%})\")\n",
        "\n",
        "            # 4. Visualize Prediction Probabilities\n",
        "            st.subheader(\"Prediction Probability Distribution\")\n",
        "\n",
        "            proba_df = pd.DataFrame({\n",
        "                'Sentiment': list(LABEL_MAP.values()),\n",
        "                'Probability': prediction_proba\n",
        "            }).sort_values(by='Probability', ascending=False)\n",
        "\n",
        "            # Create a visually engaging bar chart\n",
        "            chart = alt.Chart(proba_df).mark_bar().encode(\n",
        "                x=alt.X('Probability', axis=alt.Axis(format='.0%')),\n",
        "                y=alt.Y('Sentiment', sort='-x'),\n",
        "                color=alt.condition(\n",
        "                    alt.datum.Sentiment == predicted_sentiment,\n",
        "                    alt.value('#28a745'),  # Green for predicted class\n",
        "                    alt.value('steelblue')\n",
        "                ),\n",
        "                tooltip=['Sentiment', alt.Tooltip('Probability', format='.2%')]\n",
        "            ).properties(\n",
        "                title='Model Confidence Across Classes'\n",
        "            )\n",
        "            st.altair_chart(chart, use_container_width=True)\n",
        "\n",
        "    except Exception as e:\n",
        "        st.error(f\"An unexpected error occurred during prediction: {e}\")"
      ],
      "execution_count": 610,
      "outputs": [
        {
          "output_type": "stream",
          "name": "stdout",
          "text": [
            "Overwriting app.py\n"
          ]
        }
      ]
    },
    {
      "cell_type": "code",
      "metadata": {
        "colab": {
          "base_uri": "https://localhost:8080/"
        },
        "id": "a05b7131",
        "outputId": "239ebe16-300d-4603-a1be-7caaeaa7585f"
      },
      "source": [
        "%%writefile requirements.txt\n",
        "streamlit\n",
        "tensorflow\n",
        "scikit-learn\n",
        "pandas\n",
        "nltk"
      ],
      "execution_count": 611,
      "outputs": [
        {
          "output_type": "stream",
          "name": "stdout",
          "text": [
            "Overwriting requirements.txt\n"
          ]
        }
      ]
    },
    {
      "cell_type": "code",
      "source": [
        "!pip install streamlit"
      ],
      "metadata": {
        "colab": {
          "base_uri": "https://localhost:8080/"
        },
        "id": "ksqEInmtkNZE",
        "outputId": "5bd57510-5ee4-4f30-d21f-bc28b264406a"
      },
      "execution_count": 612,
      "outputs": [
        {
          "output_type": "stream",
          "name": "stdout",
          "text": [
            "Requirement already satisfied: streamlit in /usr/local/lib/python3.12/dist-packages (1.50.0)\n",
            "Requirement already satisfied: altair!=5.4.0,!=5.4.1,<6,>=4.0 in /usr/local/lib/python3.12/dist-packages (from streamlit) (5.5.0)\n",
            "Requirement already satisfied: blinker<2,>=1.5.0 in /usr/local/lib/python3.12/dist-packages (from streamlit) (1.9.0)\n",
            "Requirement already satisfied: cachetools<7,>=4.0 in /usr/local/lib/python3.12/dist-packages (from streamlit) (5.5.2)\n",
            "Requirement already satisfied: click<9,>=7.0 in /usr/local/lib/python3.12/dist-packages (from streamlit) (8.3.0)\n",
            "Requirement already satisfied: numpy<3,>=1.23 in /usr/local/lib/python3.12/dist-packages (from streamlit) (2.0.2)\n",
            "Requirement already satisfied: packaging<26,>=20 in /usr/local/lib/python3.12/dist-packages (from streamlit) (25.0)\n",
            "Requirement already satisfied: pandas<3,>=1.4.0 in /usr/local/lib/python3.12/dist-packages (from streamlit) (2.2.2)\n",
            "Requirement already satisfied: pillow<12,>=7.1.0 in /usr/local/lib/python3.12/dist-packages (from streamlit) (11.3.0)\n",
            "Requirement already satisfied: protobuf<7,>=3.20 in /usr/local/lib/python3.12/dist-packages (from streamlit) (5.29.5)\n",
            "Requirement already satisfied: pyarrow>=7.0 in /usr/local/lib/python3.12/dist-packages (from streamlit) (18.1.0)\n",
            "Requirement already satisfied: requests<3,>=2.27 in /usr/local/lib/python3.12/dist-packages (from streamlit) (2.32.4)\n",
            "Requirement already satisfied: tenacity<10,>=8.1.0 in /usr/local/lib/python3.12/dist-packages (from streamlit) (8.5.0)\n",
            "Requirement already satisfied: toml<2,>=0.10.1 in /usr/local/lib/python3.12/dist-packages (from streamlit) (0.10.2)\n",
            "Requirement already satisfied: typing-extensions<5,>=4.4.0 in /usr/local/lib/python3.12/dist-packages (from streamlit) (4.15.0)\n",
            "Requirement already satisfied: watchdog<7,>=2.1.5 in /usr/local/lib/python3.12/dist-packages (from streamlit) (6.0.0)\n",
            "Requirement already satisfied: gitpython!=3.1.19,<4,>=3.0.7 in /usr/local/lib/python3.12/dist-packages (from streamlit) (3.1.45)\n",
            "Requirement already satisfied: pydeck<1,>=0.8.0b4 in /usr/local/lib/python3.12/dist-packages (from streamlit) (0.9.1)\n",
            "Requirement already satisfied: tornado!=6.5.0,<7,>=6.0.3 in /usr/local/lib/python3.12/dist-packages (from streamlit) (6.5.1)\n",
            "Requirement already satisfied: jinja2 in /usr/local/lib/python3.12/dist-packages (from altair!=5.4.0,!=5.4.1,<6,>=4.0->streamlit) (3.1.6)\n",
            "Requirement already satisfied: jsonschema>=3.0 in /usr/local/lib/python3.12/dist-packages (from altair!=5.4.0,!=5.4.1,<6,>=4.0->streamlit) (4.25.1)\n",
            "Requirement already satisfied: narwhals>=1.14.2 in /usr/local/lib/python3.12/dist-packages (from altair!=5.4.0,!=5.4.1,<6,>=4.0->streamlit) (2.9.0)\n",
            "Requirement already satisfied: gitdb<5,>=4.0.1 in /usr/local/lib/python3.12/dist-packages (from gitpython!=3.1.19,<4,>=3.0.7->streamlit) (4.0.12)\n",
            "Requirement already satisfied: python-dateutil>=2.8.2 in /usr/local/lib/python3.12/dist-packages (from pandas<3,>=1.4.0->streamlit) (2.9.0.post0)\n",
            "Requirement already satisfied: pytz>=2020.1 in /usr/local/lib/python3.12/dist-packages (from pandas<3,>=1.4.0->streamlit) (2025.2)\n",
            "Requirement already satisfied: tzdata>=2022.7 in /usr/local/lib/python3.12/dist-packages (from pandas<3,>=1.4.0->streamlit) (2025.2)\n",
            "Requirement already satisfied: charset_normalizer<4,>=2 in /usr/local/lib/python3.12/dist-packages (from requests<3,>=2.27->streamlit) (3.4.4)\n",
            "Requirement already satisfied: idna<4,>=2.5 in /usr/local/lib/python3.12/dist-packages (from requests<3,>=2.27->streamlit) (3.11)\n",
            "Requirement already satisfied: urllib3<3,>=1.21.1 in /usr/local/lib/python3.12/dist-packages (from requests<3,>=2.27->streamlit) (2.5.0)\n",
            "Requirement already satisfied: certifi>=2017.4.17 in /usr/local/lib/python3.12/dist-packages (from requests<3,>=2.27->streamlit) (2025.10.5)\n",
            "Requirement already satisfied: smmap<6,>=3.0.1 in /usr/local/lib/python3.12/dist-packages (from gitdb<5,>=4.0.1->gitpython!=3.1.19,<4,>=3.0.7->streamlit) (5.0.2)\n",
            "Requirement already satisfied: MarkupSafe>=2.0 in /usr/local/lib/python3.12/dist-packages (from jinja2->altair!=5.4.0,!=5.4.1,<6,>=4.0->streamlit) (3.0.3)\n",
            "Requirement already satisfied: attrs>=22.2.0 in /usr/local/lib/python3.12/dist-packages (from jsonschema>=3.0->altair!=5.4.0,!=5.4.1,<6,>=4.0->streamlit) (25.4.0)\n",
            "Requirement already satisfied: jsonschema-specifications>=2023.03.6 in /usr/local/lib/python3.12/dist-packages (from jsonschema>=3.0->altair!=5.4.0,!=5.4.1,<6,>=4.0->streamlit) (2025.9.1)\n",
            "Requirement already satisfied: referencing>=0.28.4 in /usr/local/lib/python3.12/dist-packages (from jsonschema>=3.0->altair!=5.4.0,!=5.4.1,<6,>=4.0->streamlit) (0.37.0)\n",
            "Requirement already satisfied: rpds-py>=0.7.1 in /usr/local/lib/python3.12/dist-packages (from jsonschema>=3.0->altair!=5.4.0,!=5.4.1,<6,>=4.0->streamlit) (0.27.1)\n",
            "Requirement already satisfied: six>=1.5 in /usr/local/lib/python3.12/dist-packages (from python-dateutil>=2.8.2->pandas<3,>=1.4.0->streamlit) (1.17.0)\n"
          ]
        }
      ]
    },
    {
      "cell_type": "markdown",
      "source": [
        "\n",
        "\n",
        "# Project Management."
      ],
      "metadata": {
        "id": "nFW-vprXyRU8"
      }
    },
    {
      "cell_type": "code",
      "source": [
        "# **Improvement: Version Control (Git)**\n",
        "\n",
        "# Key Steps:\n",
        "# 1.  **Initialize:** `git init`\n",
        "# 2.  **Tracking:** `git add .`\n",
        "# 3.  **Committing:** `git commit -m \"Initial sentiment analysis project setup\"`\n",
        "# 4.  **Remote:** Track changes, create branches for new features, and manage collaboration effectively.\n",
        "\n",
        "# Example Git commands (can be run in separate cells with '!' prefix)\n",
        "# !git init\n",
        "# !git add .\n",
        "# !git commit -m \"Initial sentiment analysis project setup\""
      ],
      "metadata": {
        "id": "_aGYpEX3x7AW"
      },
      "execution_count": 613,
      "outputs": []
    }
  ]
}